{
 "cells": [
  {
   "cell_type": "markdown",
   "metadata": {
    "id": "q-HkAXla9_If"
   },
   "source": [
    "## Preprocessing the data\n",
    "\n",
    "- 시계열 데이터를 회귀 문제로 다루기 위해 시간 관련 변수들을 따로 생성\n",
    "\n",
    "- 건물, 요일, 시간에 따라 유의미한 전력사용량 차이가 있기 때문에, 파생변수 추가\n",
    "\n",
    "- 평일과 주말&공휴일의 전력사용량 차이가 있기 때문에 이를 0과 1로 구분\n",
    "\n",
    "- 시간의 순환적 성격을 반영하기 위해 sin_time와 cos_time 변수 생성. 23시와 00시는 시간적으로 매우 가깝지만 모델은 멀리 떨어져 있다고 판단할 수 있음\n",
    "\n",
    "- 전력사용량은 절대적인 지표보다 사람이 느끼는 정도에 따라 달라질 수 있음. 따라서 불쾌지수 변수(THI)와 체감온도(sensory_temp) 변수를 생성\n",
    "\n",
    "- CDH(Cooling Degree Hour) : 냉방을 위한 필요 에너지를 산정하는 데 쓰는 변수"
   ]
  },
  {
   "cell_type": "code",
   "execution_count": 1,
   "metadata": {
    "id": "-m75at3nYpg4"
   },
   "outputs": [],
   "source": [
    "import pandas as pd\n",
    "import numpy as np\n",
    "\n",
    "from tqdm import tqdm"
   ]
  },
  {
   "cell_type": "code",
   "execution_count": 2,
   "metadata": {},
   "outputs": [
    {
     "data": {
      "text/html": [
       "<div>\n",
       "<style scoped>\n",
       "    .dataframe tbody tr th:only-of-type {\n",
       "        vertical-align: middle;\n",
       "    }\n",
       "\n",
       "    .dataframe tbody tr th {\n",
       "        vertical-align: top;\n",
       "    }\n",
       "\n",
       "    .dataframe thead th {\n",
       "        text-align: right;\n",
       "    }\n",
       "</style>\n",
       "<table border=\"1\" class=\"dataframe\">\n",
       "  <thead>\n",
       "    <tr style=\"text-align: right;\">\n",
       "      <th></th>\n",
       "      <th>num_date_time</th>\n",
       "      <th>건물번호</th>\n",
       "      <th>일시</th>\n",
       "      <th>기온(C)</th>\n",
       "      <th>강수량(mm)</th>\n",
       "      <th>풍속(m/s)</th>\n",
       "      <th>습도(%)</th>\n",
       "      <th>일조(hr)</th>\n",
       "      <th>일사(MJ/m2)</th>\n",
       "      <th>전력소비량(kWh)</th>\n",
       "    </tr>\n",
       "  </thead>\n",
       "  <tbody>\n",
       "    <tr>\n",
       "      <th>0</th>\n",
       "      <td>1_20220601 00</td>\n",
       "      <td>1</td>\n",
       "      <td>20220601 00</td>\n",
       "      <td>18.6</td>\n",
       "      <td>NaN</td>\n",
       "      <td>0.9</td>\n",
       "      <td>42.0</td>\n",
       "      <td>NaN</td>\n",
       "      <td>NaN</td>\n",
       "      <td>1085.28</td>\n",
       "    </tr>\n",
       "    <tr>\n",
       "      <th>1</th>\n",
       "      <td>1_20220601 01</td>\n",
       "      <td>1</td>\n",
       "      <td>20220601 01</td>\n",
       "      <td>18.0</td>\n",
       "      <td>NaN</td>\n",
       "      <td>1.1</td>\n",
       "      <td>45.0</td>\n",
       "      <td>NaN</td>\n",
       "      <td>NaN</td>\n",
       "      <td>1047.36</td>\n",
       "    </tr>\n",
       "    <tr>\n",
       "      <th>2</th>\n",
       "      <td>1_20220601 02</td>\n",
       "      <td>1</td>\n",
       "      <td>20220601 02</td>\n",
       "      <td>17.7</td>\n",
       "      <td>NaN</td>\n",
       "      <td>1.5</td>\n",
       "      <td>45.0</td>\n",
       "      <td>NaN</td>\n",
       "      <td>NaN</td>\n",
       "      <td>974.88</td>\n",
       "    </tr>\n",
       "    <tr>\n",
       "      <th>3</th>\n",
       "      <td>1_20220601 03</td>\n",
       "      <td>1</td>\n",
       "      <td>20220601 03</td>\n",
       "      <td>16.7</td>\n",
       "      <td>NaN</td>\n",
       "      <td>1.4</td>\n",
       "      <td>48.0</td>\n",
       "      <td>NaN</td>\n",
       "      <td>NaN</td>\n",
       "      <td>953.76</td>\n",
       "    </tr>\n",
       "    <tr>\n",
       "      <th>4</th>\n",
       "      <td>1_20220601 04</td>\n",
       "      <td>1</td>\n",
       "      <td>20220601 04</td>\n",
       "      <td>18.4</td>\n",
       "      <td>NaN</td>\n",
       "      <td>2.8</td>\n",
       "      <td>43.0</td>\n",
       "      <td>NaN</td>\n",
       "      <td>NaN</td>\n",
       "      <td>986.40</td>\n",
       "    </tr>\n",
       "  </tbody>\n",
       "</table>\n",
       "</div>"
      ],
      "text/plain": [
       "   num_date_time  건물번호           일시  기온(C)  강수량(mm)  풍속(m/s)  습도(%)  일조(hr)  \\\n",
       "0  1_20220601 00     1  20220601 00   18.6      NaN      0.9   42.0     NaN   \n",
       "1  1_20220601 01     1  20220601 01   18.0      NaN      1.1   45.0     NaN   \n",
       "2  1_20220601 02     1  20220601 02   17.7      NaN      1.5   45.0     NaN   \n",
       "3  1_20220601 03     1  20220601 03   16.7      NaN      1.4   48.0     NaN   \n",
       "4  1_20220601 04     1  20220601 04   18.4      NaN      2.8   43.0     NaN   \n",
       "\n",
       "   일사(MJ/m2)  전력소비량(kWh)  \n",
       "0        NaN     1085.28  \n",
       "1        NaN     1047.36  \n",
       "2        NaN      974.88  \n",
       "3        NaN      953.76  \n",
       "4        NaN      986.40  "
      ]
     },
     "execution_count": 2,
     "metadata": {},
     "output_type": "execute_result"
    }
   ],
   "source": [
    "train = pd.read_csv('./data/train.csv')\n",
    "train.head()"
   ]
  },
  {
   "cell_type": "markdown",
   "metadata": {},
   "source": [
    "- 아래와 같이 정의하면, 삼각함수의 경우 같은 값이 나옴\n",
    "    - 그래서 둘 다 정의한 것 아닐까?\n",
    "    - 순환적 성격을 반영하기 위해서는, 같은 것이 나올 수 밖에 없음\n",
    "    - 두 변수를 하나로 묶어서 처리하면 더 효율적이지 않을까?\n",
    "```\n",
    "    train['sin_time'] = np.sin(2*np.pi*train.hour/24)\n",
    "    train['cos_time'] = np.cos(2*np.pi*train.hour/24)\n",
    "```\n",
    "- 주말 : 대기전력 -> 평일 전력 - 주말 전력 = 사람이 사용하는 전력 -> 효율적인 학습 가능?\n",
    "    - 주말에 사람이 없는 건물을 대상으로!"
   ]
  },
  {
   "cell_type": "code",
   "execution_count": null,
   "metadata": {
    "colab": {
     "base_uri": "https://localhost:8080/"
    },
    "executionInfo": {
     "elapsed": 559517,
     "status": "ok",
     "timestamp": 1704961037230,
     "user": {
      "displayName": "COLAB",
      "userId": "00366006633425464294"
     },
     "user_tz": -540
    },
    "id": "12gVh4dH9-55",
    "outputId": "d72238a3-0b89-4f19-80dc-332f6ffe7828"
   },
   "outputs": [
    {
     "name": "stderr",
     "output_type": "stream",
     "text": [
      "<ipython-input-4-6fb580f2ff2c>:14: FutureWarning: Series.dt.weekofyear and Series.dt.week have been deprecated. Please use Series.dt.isocalendar().week instead.\n",
      "  train['week'] = date.dt.weekofyear\n",
      "100%|██████████| 204000/204000 [02:40<00:00, 1269.40it/s]\n",
      "100%|██████████| 204000/204000 [01:39<00:00, 2054.06it/s]\n",
      "100%|██████████| 204000/204000 [01:39<00:00, 2042.86it/s]\n",
      "100%|██████████| 204000/204000 [01:37<00:00, 2099.35it/s]\n",
      "100%|██████████| 204000/204000 [01:37<00:00, 2095.02it/s]\n"
     ]
    }
   ],
   "source": [
    "## 데이터 불러온 후 num_date_time 열 삭제\n",
    "train = pd.read_csv('./data/train.csv')\n",
    "train = train.drop(\"num_date_time\", axis = 1)\n",
    "\n",
    "## 변수들을 영문명으로 변경\n",
    "cols = [\"num\", \"date_time\", \"temp\", \"rain\", \"wind\", \"hum\", \"sun_hr\", \"sun_amount\", \"power\"]\n",
    "train.columns = cols\n",
    "\n",
    "## 시간 관련 변수들 생성\n",
    "date = pd.to_datetime(train.date_time)\n",
    "train['hour'] = date.dt.hour\n",
    "train['day'] = date.dt.weekday\n",
    "train['month'] = date.dt.month\n",
    "train['week'] = date.dt.weekofyear\n",
    "\n",
    "#######################################\n",
    "## 건물별, 요일별, 시간별 발전량 평균 넣어주기\n",
    "#######################################\n",
    "power_mean = pd.pivot_table(train, values = 'power', index = ['num', 'hour', 'day'], aggfunc = np.mean).reset_index()\n",
    "tqdm.pandas()\n",
    "train['day_hour_mean'] = train.progress_apply(lambda x : power_mean.loc[(power_mean.num == x['num']) & (power_mean.hour == x['hour']) & (power_mean.day == x['day']) ,'power'].values[0], axis = 1)\n",
    "\n",
    "#######################################\n",
    "## 건물별 시간별 발전량 평균 넣어주기\n",
    "#######################################\n",
    "power_hour_mean = pd.pivot_table(train, values = 'power', index = ['num', 'hour'], aggfunc = np.mean).reset_index()\n",
    "tqdm.pandas()\n",
    "train['hour_mean'] = train.progress_apply(lambda x : power_hour_mean.loc[(power_hour_mean.num == x['num']) & (power_hour_mean.hour == x['hour']) ,'power'].values[0], axis = 1)\n",
    "\n",
    "#######################################\n",
    "## 건물별 시간별 발전량 표준편차 넣어주기\n",
    "#######################################\n",
    "power_hour_std = pd.pivot_table(train, values = 'power', index = ['num', 'hour'], aggfunc = np.std).reset_index()\n",
    "tqdm.pandas()\n",
    "train['hour_std'] = train.progress_apply(lambda x : power_hour_std.loc[(power_hour_std.num == x['num']) & (power_hour_std.hour == x['hour']) ,'power'].values[0], axis = 1)\n",
    "\n",
    "#######################################\n",
    "## 건물별 요일별 발전량 평균 넣어주기\n",
    "#######################################\n",
    "power_day_mean = pd.pivot_table(train, values = 'power', index = ['num', 'day'], aggfunc = np.mean).reset_index()\n",
    "tqdm.pandas()\n",
    "train['day_mean'] = train.progress_apply(lambda x : power_day_mean.loc[(power_day_mean.num == x['num']) & (power_day_mean.day == x['day']) ,'power'].values[0], axis = 1)\n",
    "\n",
    "#######################################\n",
    "## 건물별 요일별 발전량 표준편차 넣어주기\n",
    "#######################################\n",
    "power_day_std = pd.pivot_table(train, values = 'power', index = ['num', 'day'], aggfunc = np.std).reset_index()\n",
    "tqdm.pandas()\n",
    "train['day_std'] = train.progress_apply(lambda x : power_day_std.loc[(power_day_std.num == x['num']) & (power_day_std.day == x['day']) ,'power'].values[0], axis = 1)\n",
    "\n",
    "## 공휴일 변수 추가\n",
    "train['holiday'] = train.apply(lambda x : 0 if x['day']<5 else 1, axis = 1)\n",
    "train.loc[('2020-08-17'<=train.date_time)&(train.date_time<'2020-08-18'), 'holiday'] = 1\n",
    "\n",
    "## https://dacon.io/competitions/official/235680/codeshare/2366?page=1&dtype=recent\n",
    "train['sin_time'] = np.sin(2*np.pi*train.hour/24)\n",
    "train['cos_time'] = np.cos(2*np.pi*train.hour/24)\n",
    "\n",
    "## https://dacon.io/competitions/official/235736/codeshare/2743?page=1&dtype=recent\n",
    "train['THI'] = 9/5*train['temp'] - 0.55*(1-train['hum']/100)*(9/5*train['hum']-26)+32\n",
    "\n",
    "## 체감온도 산출\n",
    "train['sensory_temp'] = 13.12 + 0.6215*train['temp'] - 11.37*(train['wind']**0.16) + 0.3965*train['temp']*(train['wind']**0.16)\n",
    "\n",
    "## CDH 변수 추가\n",
    "def CDH(xs):\n",
    "    ys = []\n",
    "    for i in range(len(xs)):\n",
    "        if i < 11:\n",
    "            ys.append(np.sum(xs[:(i+1)]-26))\n",
    "        else:\n",
    "            ys.append(np.sum(xs[(i-11):(i+1)]-26))\n",
    "    return np.array(ys)\n",
    "\n",
    "cdhs = np.array([])\n",
    "for num in range(1,101,1):\n",
    "    temp = train[train['num'] == num]\n",
    "    cdh = CDH(temp['temp'].values)\n",
    "    cdhs = np.concatenate([cdhs, cdh])\n",
    "train['CDH'] = cdhs"
   ]
  },
  {
   "cell_type": "code",
   "execution_count": null,
   "metadata": {
    "id": "-9E7E3S-1RlY"
   },
   "outputs": [],
   "source": [
    "## 결측치가 많고, test 데이터에 없는 sun_hr, sun_amount 변수 제외 후 column명 변경\n",
    "train = train.drop([\"sun_hr\", \"sun_amount\"], axis = 1)\n",
    "\n",
    "## save the preprocessed data\n",
    "train.to_csv('/content/drive/MyDrive/Colab Notebooks/XGBoost/data/train_preprocessed.csv', index = False)"
   ]
  }
 ],
 "metadata": {
  "accelerator": "GPU",
  "colab": {
   "authorship_tag": "ABX9TyO/VFwNtLZSRvlWs2wtSKAL",
   "gpuType": "V100",
   "provenance": []
  },
  "kernelspec": {
   "display_name": "Python 3 (ipykernel)",
   "language": "python",
   "name": "python3"
  },
  "language_info": {
   "codemirror_mode": {
    "name": "ipython",
    "version": 3
   },
   "file_extension": ".py",
   "mimetype": "text/x-python",
   "name": "python",
   "nbconvert_exporter": "python",
   "pygments_lexer": "ipython3",
   "version": "3.9.16"
  }
 },
 "nbformat": 4,
 "nbformat_minor": 1
}
