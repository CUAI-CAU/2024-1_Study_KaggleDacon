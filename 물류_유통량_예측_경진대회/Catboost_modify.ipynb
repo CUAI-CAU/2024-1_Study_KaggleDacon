{
 "cells": [
  {
   "cell_type": "markdown",
   "metadata": {},
   "source": [
    "- 전처리 과정이 납득이 잘 되지 않음\n",
    "  - https://www.bigdata-region.kr/#/dataset/0ad3c882-f7ee-4faf-970d-00c53cb65a84\n",
    "  - 위 링크를 참고하여, 데이터 상 격자공간고유번호가 격자공간50미터 기준인 것으로 파악\n",
    "  - 격자공간 50미터의 경우, 시군구코드 + 나머지 형식으로 이루어짐\n",
    "  - 따라서 격자공간고유번호를 위와 같이 두 개로 나누기로 결정"
   ]
  },
  {
   "cell_type": "code",
   "execution_count": 1,
   "metadata": {
    "id": "F9lyXc90w-sP",
    "scrolled": true
   },
   "outputs": [
    {
     "name": "stdout",
     "output_type": "stream",
     "text": [
      "Requirement already satisfied: catboost in c:\\users\\songk\\anaconda3\\lib\\site-packages (1.2.3)\n",
      "Requirement already satisfied: graphviz in c:\\users\\songk\\anaconda3\\lib\\site-packages (from catboost) (0.20.1)\n",
      "Requirement already satisfied: matplotlib in c:\\users\\songk\\anaconda3\\lib\\site-packages (from catboost) (3.7.1)\n",
      "Requirement already satisfied: numpy>=1.16.0 in c:\\users\\songk\\anaconda3\\lib\\site-packages (from catboost) (1.24.3)\n",
      "Requirement already satisfied: pandas>=0.24 in c:\\users\\songk\\anaconda3\\lib\\site-packages (from catboost) (1.5.3)\n",
      "Requirement already satisfied: scipy in c:\\users\\songk\\anaconda3\\lib\\site-packages (from catboost) (1.10.1)\n",
      "Requirement already satisfied: plotly in c:\\users\\songk\\anaconda3\\lib\\site-packages (from catboost) (5.15.0)\n",
      "Requirement already satisfied: six in c:\\users\\songk\\anaconda3\\lib\\site-packages (from catboost) (1.16.0)\n",
      "Requirement already satisfied: python-dateutil>=2.8.1 in c:\\users\\songk\\anaconda3\\lib\\site-packages (from pandas>=0.24->catboost) (2.8.2)\n",
      "Requirement already satisfied: pytz>=2020.1 in c:\\users\\songk\\anaconda3\\lib\\site-packages (from pandas>=0.24->catboost) (2022.7)\n",
      "Requirement already satisfied: contourpy>=1.0.1 in c:\\users\\songk\\anaconda3\\lib\\site-packages (from matplotlib->catboost) (1.0.5)\n",
      "Requirement already satisfied: cycler>=0.10 in c:\\users\\songk\\anaconda3\\lib\\site-packages (from matplotlib->catboost) (0.11.0)\n",
      "Requirement already satisfied: fonttools>=4.22.0 in c:\\users\\songk\\anaconda3\\lib\\site-packages (from matplotlib->catboost) (4.25.0)\n",
      "Requirement already satisfied: kiwisolver>=1.0.1 in c:\\users\\songk\\anaconda3\\lib\\site-packages (from matplotlib->catboost) (1.4.4)\n",
      "Requirement already satisfied: packaging>=20.0 in c:\\users\\songk\\anaconda3\\lib\\site-packages (from matplotlib->catboost) (23.0)\n",
      "Requirement already satisfied: pillow>=6.2.0 in c:\\users\\songk\\anaconda3\\lib\\site-packages (from matplotlib->catboost) (9.4.0)\n",
      "Requirement already satisfied: pyparsing>=2.3.1 in c:\\users\\songk\\anaconda3\\lib\\site-packages (from matplotlib->catboost) (3.0.9)\n",
      "Requirement already satisfied: importlib-resources>=3.2.0 in c:\\users\\songk\\anaconda3\\lib\\site-packages (from matplotlib->catboost) (5.2.0)\n",
      "Requirement already satisfied: tenacity>=6.2.0 in c:\\users\\songk\\anaconda3\\lib\\site-packages (from plotly->catboost) (8.2.2)\n",
      "Requirement already satisfied: zipp>=3.1.0 in c:\\users\\songk\\anaconda3\\lib\\site-packages (from importlib-resources>=3.2.0->matplotlib->catboost) (3.11.0)\n"
     ]
    },
    {
     "name": "stderr",
     "output_type": "stream",
     "text": [
      "WARNING: Ignoring invalid distribution -ensorflow-intel (c:\\users\\songk\\anaconda3\\lib\\site-packages)\n",
      "WARNING: Ignoring invalid distribution -pype1 (c:\\users\\songk\\anaconda3\\lib\\site-packages)\n",
      "WARNING: Ignoring invalid distribution -ensorflow-intel (c:\\users\\songk\\anaconda3\\lib\\site-packages)\n",
      "WARNING: Ignoring invalid distribution -pype1 (c:\\users\\songk\\anaconda3\\lib\\site-packages)\n"
     ]
    },
    {
     "name": "stdout",
     "output_type": "stream",
     "text": [
      "Requirement already satisfied: optuna in c:\\users\\songk\\anaconda3\\lib\\site-packages (3.2.0)\n",
      "Requirement already satisfied: alembic>=1.5.0 in c:\\users\\songk\\anaconda3\\lib\\site-packages (from optuna) (1.11.1)\n",
      "Requirement already satisfied: cmaes>=0.9.1 in c:\\users\\songk\\anaconda3\\lib\\site-packages (from optuna) (0.10.0)\n",
      "Requirement already satisfied: colorlog in c:\\users\\songk\\anaconda3\\lib\\site-packages (from optuna) (6.7.0)\n",
      "Requirement already satisfied: numpy in c:\\users\\songk\\anaconda3\\lib\\site-packages (from optuna) (1.24.3)\n",
      "Requirement already satisfied: packaging>=20.0 in c:\\users\\songk\\anaconda3\\lib\\site-packages (from optuna) (23.0)\n",
      "Requirement already satisfied: sqlalchemy>=1.3.0 in c:\\users\\songk\\anaconda3\\lib\\site-packages (from optuna) (1.4.39)\n",
      "Requirement already satisfied: tqdm in c:\\users\\songk\\anaconda3\\lib\\site-packages (from optuna) (4.65.0)\n",
      "Requirement already satisfied: PyYAML in c:\\users\\songk\\anaconda3\\lib\\site-packages (from optuna) (6.0)\n",
      "Requirement already satisfied: Mako in c:\\users\\songk\\anaconda3\\lib\\site-packages (from alembic>=1.5.0->optuna) (1.2.4)\n",
      "Requirement already satisfied: typing-extensions>=4 in c:\\users\\songk\\anaconda3\\lib\\site-packages (from alembic>=1.5.0->optuna) (4.9.0)\n",
      "Requirement already satisfied: greenlet!=0.4.17 in c:\\users\\songk\\anaconda3\\lib\\site-packages (from sqlalchemy>=1.3.0->optuna) (2.0.1)\n",
      "Requirement already satisfied: colorama in c:\\users\\songk\\anaconda3\\lib\\site-packages (from colorlog->optuna) (0.4.6)\n",
      "Requirement already satisfied: MarkupSafe>=0.9.2 in c:\\users\\songk\\anaconda3\\lib\\site-packages (from Mako->alembic>=1.5.0->optuna) (2.1.1)\n"
     ]
    },
    {
     "name": "stderr",
     "output_type": "stream",
     "text": [
      "WARNING: Ignoring invalid distribution -ensorflow-intel (c:\\users\\songk\\anaconda3\\lib\\site-packages)\n",
      "WARNING: Ignoring invalid distribution -pype1 (c:\\users\\songk\\anaconda3\\lib\\site-packages)\n",
      "WARNING: Ignoring invalid distribution -ensorflow-intel (c:\\users\\songk\\anaconda3\\lib\\site-packages)\n",
      "WARNING: Ignoring invalid distribution -pype1 (c:\\users\\songk\\anaconda3\\lib\\site-packages)\n"
     ]
    }
   ],
   "source": [
    "!pip install catboost\n",
    "!pip install optuna"
   ]
  },
  {
   "cell_type": "code",
   "execution_count": 7,
   "metadata": {
    "executionInfo": {
     "elapsed": 2569,
     "status": "ok",
     "timestamp": 1640066627649,
     "user": {
      "displayName": "조경덕",
      "photoUrl": "https://lh3.googleusercontent.com/a/default-user=s64",
      "userId": "14679603036547633295"
     },
     "user_tz": -540
    },
    "id": "Yld6Bu1JUNNS"
   },
   "outputs": [],
   "source": [
    "import pandas as pd\n",
    "import numpy as np\n",
    "from catboost import CatBoostRegressor\n",
    "\n",
    "from tqdm import tqdm\n",
    "from sklearn.model_selection import StratifiedKFold,train_test_split\n",
    "from sklearn.metrics import mean_squared_error\n",
    "\n",
    "import random\n",
    "import optuna\n",
    "from optuna.samplers import TPESampler\n",
    "\n",
    "import warnings\n",
    "warnings.filterwarnings(\"ignore\")"
   ]
  },
  {
   "cell_type": "code",
   "execution_count": 37,
   "metadata": {
    "executionInfo": {
     "elapsed": 1365,
     "status": "ok",
     "timestamp": 1640066680755,
     "user": {
      "displayName": "조경덕",
      "photoUrl": "https://lh3.googleusercontent.com/a/default-user=s64",
      "userId": "14679603036547633295"
     },
     "user_tz": -540
    },
    "id": "em7Q46G1UF7a"
   },
   "outputs": [],
   "source": [
    "train = pd.read_csv('./data/train.csv')\n",
    "test = pd.read_csv('./data/test.csv')\n",
    "\n",
    "submission = pd.read_csv('./data/sample_submission.csv')\n",
    "\n",
    "train.columns = ['index', 'SEND_SPG_INNB', 'REC_SPG_INNB', 'product_category', 'INVC_CONT']\n",
    "test.columns = ['index', 'SEND_SPG_INNB', 'REC_SPG_INNB', 'product_category']\n",
    "\n",
    "train.index=train['index']\n",
    "test.index=test['index']\n",
    "\n",
    "train.drop(\"index\", axis = 1, inplace = True)\n",
    "test.drop(\"index\", axis = 1, inplace = True)\n",
    "\n",
    "# 격자공간고유번호 나누기 \n",
    "# 앞 5개 region_code 열에 저장, 나머지 space_number 열에 저장\n",
    "\n",
    "# train, SEND_SPG_INNB\n",
    "li_region_code = []\n",
    "li_space_number = []\n",
    "\n",
    "for i in range(len(train)):\n",
    "    li_region_code.append(int(str(train[\"SEND_SPG_INNB\"][i])[0:5]))\n",
    "    li_space_number.append(int(str(train[\"SEND_SPG_INNB\"][i])[5:]))\n",
    "    \n",
    "train[\"SEND_region_code\"] = li_region_code\n",
    "train[\"SEND_space_number\"] = li_space_number\n",
    "\n",
    "train.drop(\"SEND_SPG_INNB\", axis = 1, inplace = True)\n",
    "\n",
    "\n",
    "# train, REC_SPG_INNB\n",
    "li_region_code = []\n",
    "li_space_number = []\n",
    "\n",
    "for i in range(len(train)):\n",
    "    li_region_code.append(int(str(train[\"REC_SPG_INNB\"][i])[0:5]))\n",
    "    li_space_number.append(int(str(train[\"REC_SPG_INNB\"][i])[5:]))\n",
    "    \n",
    "train[\"REC_region_code\"] = li_region_code\n",
    "train[\"REC_space_number\"] = li_space_number\n",
    "\n",
    "train.drop(\"REC_SPG_INNB\", axis = 1, inplace = True)\n",
    "\n",
    "\n",
    "# test, SEND_SPG_INNB\n",
    "li_region_code = []\n",
    "li_space_number = []\n",
    "\n",
    "for i in range(len(test)):\n",
    "    li_region_code.append(int(str(test[\"SEND_SPG_INNB\"][i])[0:5]))\n",
    "    li_space_number.append(int(str(test[\"SEND_SPG_INNB\"][i])[5:]))\n",
    "    \n",
    "test[\"SEND_region_code\"] = li_region_code\n",
    "test[\"SEND_space_number\"] = li_space_number\n",
    "\n",
    "test.drop(\"SEND_SPG_INNB\", axis = 1, inplace = True)\n",
    "\n",
    "\n",
    "# test, REC_SPG_INNB\n",
    "li_region_code = []\n",
    "li_space_number = []\n",
    "\n",
    "for i in range(len(test)):\n",
    "    li_region_code.append(int(str(test[\"REC_SPG_INNB\"][i])[0:5]))\n",
    "    li_space_number.append(int(str(test[\"REC_SPG_INNB\"][i])[5:]))\n",
    "    \n",
    "test[\"REC_region_code\"] = li_region_code\n",
    "test[\"REC_space_number\"] = li_space_number\n",
    "\n",
    "test.drop(\"REC_SPG_INNB\", axis = 1, inplace = True)\n",
    "\n",
    "\n",
    "# 숫자형 변수를 연속형으로 취급하지 않고 category로 취급\n",
    "for col in test.columns:\n",
    "    train[col]=train[col].astype('category')\n",
    "    test[col]=test[col].astype('category')"
   ]
  },
  {
   "cell_type": "code",
   "execution_count": 42,
   "metadata": {
    "executionInfo": {
     "elapsed": 18,
     "status": "ok",
     "timestamp": 1640067314401,
     "user": {
      "displayName": "조경덕",
      "photoUrl": "https://lh3.googleusercontent.com/a/default-user=s64",
      "userId": "14679603036547633295"
     },
     "user_tz": -540
    },
    "id": "cFczb9CAqy5X"
   },
   "outputs": [],
   "source": [
    "#Optuna용 Train셋\n",
    "X = train.drop(['INVC_CONT'],axis=1)\n",
    "y = train['INVC_CONT']\n",
    "X_test = test.copy()"
   ]
  },
  {
   "cell_type": "code",
   "execution_count": 43,
   "metadata": {
    "executionInfo": {
     "elapsed": 13,
     "status": "ok",
     "timestamp": 1640067314405,
     "user": {
      "displayName": "조경덕",
      "photoUrl": "https://lh3.googleusercontent.com/a/default-user=s64",
      "userId": "14679603036547633295"
     },
     "user_tz": -540
    },
    "id": "RyZ8xXe2sYdb"
   },
   "outputs": [],
   "source": [
    "def objective(trial):\n",
    "    param = {\n",
    "        \"random_state\":42,\n",
    "        'learning_rate' : trial.suggest_loguniform('learning_rate', 0.01, 0.05),\n",
    "        'bagging_temperature' :trial.suggest_loguniform('bagging_temperature', 0.01, 100.00),\n",
    "        \"n_estimators\":trial.suggest_int(\"n_estimators\", 500, 5000),\n",
    "        \"max_depth\":trial.suggest_int(\"max_depth\", 4, 16),\n",
    "        'random_strength' :trial.suggest_int('random_strength', 0, 100),\n",
    "        \"colsample_bylevel\":trial.suggest_float(\"colsample_bylevel\", 0.4, 1.0),\n",
    "        \"l2_leaf_reg\":trial.suggest_float(\"l2_leaf_reg\",1e-8,3e-5),\n",
    "        \"min_child_samples\": trial.suggest_int(\"min_child_samples\", 5, 100),\n",
    "        \"max_bin\": trial.suggest_int(\"max_bin\", 200, 500),\n",
    "        'od_type': trial.suggest_categorical('od_type', ['IncToDec', 'Iter']),\n",
    "    }\n",
    "    X_train, X_valid, y_train, y_valid = train_test_split(X,y,test_size=0.2)\n",
    "    cat_features = range(X_test.shape[1])\n",
    "    cat = CatBoostRegressor(**param)\n",
    "    cat.fit(X_train, y_train,\n",
    "            eval_set=[(X_train, y_train), (X_valid,y_valid)],\n",
    "            early_stopping_rounds=35,cat_features=cat_features,\n",
    "            verbose=100)\n",
    "    cat_pred = cat.predict(X_valid)\n",
    "    rmse = np.sqrt(mean_squared_error(y_valid, cat_pred))\n",
    " \n",
    "    return rmse"
   ]
  },
  {
   "cell_type": "code",
   "execution_count": 44,
   "metadata": {
    "executionInfo": {
     "elapsed": 15,
     "status": "ok",
     "timestamp": 1640067314407,
     "user": {
      "displayName": "조경덕",
      "photoUrl": "https://lh3.googleusercontent.com/a/default-user=s64",
      "userId": "14679603036547633295"
     },
     "user_tz": -540
    },
    "id": "pOmw72046PZg"
   },
   "outputs": [
    {
     "name": "stderr",
     "output_type": "stream",
     "text": [
      "[I 2024-03-28 14:23:08,638] A new study created in memory with name: cat_parameter_opt\n"
     ]
    },
    {
     "name": "stdout",
     "output_type": "stream",
     "text": [
      "0:\tlearn: 6.8455301\ttest: 6.8444973\ttest1: 6.3670641\tbest: 6.3670641 (0)\ttotal: 330ms\tremaining: 20m 51s\n",
      "100:\tlearn: 6.5294859\ttest: 6.4568021\ttest1: 6.1712587\tbest: 6.1712587 (100)\ttotal: 9.8s\tremaining: 5m 58s\n",
      "200:\tlearn: 6.2975867\ttest: 6.3183992\ttest1: 6.1099157\tbest: 6.1099039 (198)\ttotal: 20.8s\tremaining: 6m 11s\n",
      "300:\tlearn: 6.2178044\ttest: 6.2982906\ttest1: 6.0998593\tbest: 6.0998593 (300)\ttotal: 30s\tremaining: 5m 47s\n",
      "Stopped by overfitting detector  (35 iterations wait)\n",
      "\n",
      "bestTest = 6.099047354\n",
      "bestIteration = 319\n",
      "\n",
      "Shrink model to first 320 iterations.\n"
     ]
    },
    {
     "name": "stderr",
     "output_type": "stream",
     "text": [
      "[I 2024-03-28 14:23:44,622] Trial 0 finished with value: 6.0990473537165295 and parameters: {'learning_rate': 0.018272261776066247, 'bagging_temperature': 63.512210106407046, 'n_estimators': 3794, 'max_depth': 11, 'random_strength': 15, 'colsample_bylevel': 0.49359671220172163, 'l2_leaf_reg': 1.7519275289243016e-06, 'min_child_samples': 88, 'max_bin': 380, 'od_type': 'IncToDec'}. Best is trial 0 with value: 6.0990473537165295.\n"
     ]
    },
    {
     "name": "stdout",
     "output_type": "stream",
     "text": [
      "0:\tlearn: 6.9053516\ttest: 6.8859422\ttest1: 6.0936505\tbest: 6.0936505 (0)\ttotal: 158ms\tremaining: 3m 49s\n",
      "100:\tlearn: 6.6171260\ttest: 6.4574115\ttest1: 5.8462296\tbest: 5.8460679 (99)\ttotal: 6.39s\tremaining: 1m 25s\n",
      "200:\tlearn: 6.4048261\ttest: 6.3652476\ttest1: 5.6663164\tbest: 5.6636918 (187)\ttotal: 11.4s\tremaining: 1m 11s\n",
      "300:\tlearn: 6.0300098\ttest: 6.4829543\ttest1: 5.5271259\tbest: 5.5271259 (300)\ttotal: 17.4s\tremaining: 1m 6s\n",
      "400:\tlearn: 5.7792817\ttest: 6.5814173\ttest1: 5.4624072\tbest: 5.4572206 (375)\ttotal: 23.9s\tremaining: 1m 2s\n",
      "Stopped by overfitting detector  (35 iterations wait)\n",
      "\n",
      "bestTest = 5.457220591\n",
      "bestIteration = 375\n",
      "\n",
      "Shrink model to first 376 iterations.\n"
     ]
    },
    {
     "name": "stderr",
     "output_type": "stream",
     "text": [
      "[I 2024-03-28 14:24:09,882] Trial 1 finished with value: 5.45722059094952 and parameters: {'learning_rate': 0.04763628595029446, 'bagging_temperature': 21.368329072358772, 'n_estimators': 1455, 'max_depth': 6, 'random_strength': 18, 'colsample_bylevel': 0.5825453457757226, 'l2_leaf_reg': 1.5747445384650815e-05, 'min_child_samples': 46, 'max_bin': 287, 'od_type': 'IncToDec'}. Best is trial 1 with value: 5.45722059094952.\n"
     ]
    },
    {
     "name": "stdout",
     "output_type": "stream",
     "text": [
      "0:\tlearn: 6.2829884\ttest: 6.2809501\ttest1: 8.3732245\tbest: 8.3732245 (0)\ttotal: 58.2ms\tremaining: 2m 28s\n",
      "100:\tlearn: 6.0350155\ttest: 5.9492079\ttest1: 8.1444042\tbest: 8.1444042 (100)\ttotal: 19.5s\tremaining: 7m 52s\n",
      "200:\tlearn: 5.8901583\ttest: 5.8923057\ttest1: 8.0561075\tbest: 8.0561075 (200)\ttotal: 39.2s\tremaining: 7m 38s\n",
      "300:\tlearn: 5.7730892\ttest: 5.9054625\ttest1: 8.0225357\tbest: 8.0225357 (300)\ttotal: 56.9s\tremaining: 7m 5s\n",
      "400:\tlearn: 5.6904634\ttest: 5.9340142\ttest1: 7.9844754\tbest: 7.9844365 (399)\ttotal: 1m 11s\tremaining: 6m 22s\n",
      "500:\tlearn: 5.6364582\ttest: 5.9525651\ttest1: 7.9741247\tbest: 7.9741156 (499)\ttotal: 1m 25s\tremaining: 5m 51s\n",
      "600:\tlearn: 5.5516319\ttest: 5.9610327\ttest1: 7.9437271\tbest: 7.9435513 (598)\ttotal: 1m 43s\tremaining: 5m 37s\n",
      "700:\tlearn: 5.3892307\ttest: 5.9915802\ttest1: 7.9096544\tbest: 7.9069154 (687)\ttotal: 2m 7s\tremaining: 5m 37s\n",
      "Stopped by overfitting detector  (35 iterations wait)\n",
      "\n",
      "bestTest = 7.906915366\n",
      "bestIteration = 687\n",
      "\n",
      "Shrink model to first 688 iterations.\n"
     ]
    },
    {
     "name": "stderr",
     "output_type": "stream",
     "text": [
      "[I 2024-03-28 14:26:24,786] Trial 2 finished with value: 7.9069153656382305 and parameters: {'learning_rate': 0.016002960978292496, 'bagging_temperature': 0.2920433847181412, 'n_estimators': 2552, 'max_depth': 14, 'random_strength': 20, 'colsample_bylevel': 0.708540663048167, 'l2_leaf_reg': 1.7776512920172654e-05, 'min_child_samples': 9, 'max_bin': 382, 'od_type': 'IncToDec'}. Best is trial 1 with value: 5.45722059094952.\n"
     ]
    },
    {
     "name": "stdout",
     "output_type": "stream",
     "text": [
      "0:\tlearn: 6.6486994\ttest: 6.6486994\ttest1: 7.1614443\tbest: 7.1614443 (0)\ttotal: 54.2ms\tremaining: 3m 44s\n",
      "100:\tlearn: 6.2244864\ttest: 6.1484721\ttest1: 6.7067341\tbest: 6.7067341 (100)\ttotal: 7.83s\tremaining: 5m 12s\n",
      "200:\tlearn: 6.0645068\ttest: 6.0691179\ttest1: 6.6194466\tbest: 6.6192822 (199)\ttotal: 14.3s\tremaining: 4m 39s\n",
      "300:\tlearn: 5.8024588\ttest: 5.9718635\ttest1: 6.4276898\tbest: 6.4276898 (300)\ttotal: 22.1s\tremaining: 4m 41s\n",
      "400:\tlearn: 5.6348442\ttest: 5.9038519\ttest1: 6.2887590\tbest: 6.2887590 (400)\ttotal: 30.7s\tremaining: 4m 46s\n",
      "500:\tlearn: 5.5093078\ttest: 5.8954516\ttest1: 6.2777232\tbest: 6.2733558 (476)\ttotal: 39s\tremaining: 4m 42s\n",
      "Stopped by overfitting detector  (35 iterations wait)\n",
      "\n",
      "bestTest = 6.273355777\n",
      "bestIteration = 476\n",
      "\n",
      "Shrink model to first 477 iterations.\n"
     ]
    },
    {
     "name": "stderr",
     "output_type": "stream",
     "text": [
      "[I 2024-03-28 14:27:05,583] Trial 3 finished with value: 6.273355776593945 and parameters: {'learning_rate': 0.04605136717611768, 'bagging_temperature': 72.86653737491046, 'n_estimators': 4138, 'max_depth': 7, 'random_strength': 9, 'colsample_bylevel': 0.8105398159072941, 'l2_leaf_reg': 1.3210173287250643e-05, 'min_child_samples': 16, 'max_bin': 349, 'od_type': 'Iter'}. Best is trial 1 with value: 5.45722059094952.\n"
     ]
    },
    {
     "name": "stdout",
     "output_type": "stream",
     "text": [
      "0:\tlearn: 6.9451296\ttest: 6.9439399\ttest1: 5.9256186\tbest: 5.9256186 (0)\ttotal: 139ms\tremaining: 4m 23s\n",
      "100:\tlearn: 6.8101976\ttest: 6.6882092\ttest1: 5.7846972\tbest: 5.7846891 (99)\ttotal: 7.63s\tremaining: 2m 16s\n",
      "200:\tlearn: 6.7550986\ttest: 6.5760904\ttest1: 5.7266176\tbest: 5.7266176 (200)\ttotal: 14.3s\tremaining: 2m\n",
      "300:\tlearn: 6.7008898\ttest: 6.5225858\ttest1: 5.6991435\tbest: 5.6991435 (300)\ttotal: 21.2s\tremaining: 1m 52s\n",
      "400:\tlearn: 6.6563275\ttest: 6.4979626\ttest1: 5.6677827\tbest: 5.6677827 (400)\ttotal: 28.6s\tremaining: 1m 46s\n",
      "500:\tlearn: 6.6308380\ttest: 6.4771419\ttest1: 5.6547732\tbest: 5.6547732 (500)\ttotal: 35.2s\tremaining: 1m 38s\n",
      "600:\tlearn: 6.6024185\ttest: 6.4705672\ttest1: 5.6476643\tbest: 5.6471093 (598)\ttotal: 41.9s\tremaining: 1m 30s\n",
      "700:\tlearn: 6.5763907\ttest: 6.4530779\ttest1: 5.6276071\tbest: 5.6276071 (700)\ttotal: 48.1s\tremaining: 1m 22s\n",
      "800:\tlearn: 6.5270174\ttest: 6.4081003\ttest1: 5.5955956\tbest: 5.5949221 (798)\ttotal: 55.1s\tremaining: 1m 15s\n",
      "900:\tlearn: 6.3889671\ttest: 6.3522691\ttest1: 5.5674735\tbest: 5.5639765 (889)\ttotal: 1m 3s\tremaining: 1m 11s\n",
      "Stopped by overfitting detector  (35 iterations wait)\n",
      "\n",
      "bestTest = 5.563976451\n",
      "bestIteration = 889\n",
      "\n",
      "Shrink model to first 890 iterations.\n"
     ]
    },
    {
     "name": "stderr",
     "output_type": "stream",
     "text": [
      "[I 2024-03-28 14:28:13,199] Trial 4 finished with value: 5.563976451285844 and parameters: {'learning_rate': 0.015166293102182283, 'bagging_temperature': 4.467752817973908, 'n_estimators': 1903, 'max_depth': 10, 'random_strength': 55, 'colsample_bylevel': 0.5109126733153162, 'l2_leaf_reg': 2.9087842986659113e-05, 'min_child_samples': 79, 'max_bin': 482, 'od_type': 'IncToDec'}. Best is trial 1 with value: 5.45722059094952.\n"
     ]
    },
    {
     "name": "stdout",
     "output_type": "stream",
     "text": [
      "0:\tlearn: 6.9306669\ttest: 6.9278435\ttest1: 5.9812731\tbest: 5.9812731 (0)\ttotal: 92.1ms\tremaining: 2m 7s\n",
      "100:\tlearn: 6.7028131\ttest: 6.5861563\ttest1: 5.8026775\tbest: 5.8026775 (100)\ttotal: 4.08s\tremaining: 51.8s\n",
      "200:\tlearn: 6.6517886\ttest: 6.5246654\ttest1: 5.7785265\tbest: 5.7785265 (200)\ttotal: 8.25s\tremaining: 48.5s\n",
      "300:\tlearn: 6.4758200\ttest: 6.3785662\ttest1: 5.7121046\tbest: 5.7114324 (298)\ttotal: 12.5s\tremaining: 44.8s\n",
      "Stopped by overfitting detector  (35 iterations wait)\n",
      "\n",
      "bestTest = 5.68318229\n",
      "bestIteration = 314\n",
      "\n",
      "Shrink model to first 315 iterations.\n"
     ]
    },
    {
     "name": "stderr",
     "output_type": "stream",
     "text": [
      "[I 2024-03-28 14:28:28,745] Trial 5 finished with value: 5.683182290089614 and parameters: {'learning_rate': 0.04409226795827594, 'bagging_temperature': 0.022592797420156956, 'n_estimators': 1382, 'max_depth': 4, 'random_strength': 32, 'colsample_bylevel': 0.6332063738136893, 'l2_leaf_reg': 8.147757462899138e-06, 'min_child_samples': 84, 'max_bin': 307, 'od_type': 'Iter'}. Best is trial 1 with value: 5.45722059094952.\n"
     ]
    },
    {
     "name": "stdout",
     "output_type": "stream",
     "text": [
      "0:\tlearn: 6.5926273\ttest: 6.5769521\ttest1: 7.3429829\tbest: 7.3429829 (0)\ttotal: 367ms\tremaining: 5m 6s\n",
      "100:\tlearn: 6.4256532\ttest: 6.3332713\ttest1: 7.1920556\tbest: 7.1920556 (100)\ttotal: 26.1s\tremaining: 3m 10s\n",
      "200:\tlearn: 6.3484319\ttest: 6.2612209\ttest1: 7.1310013\tbest: 7.1310013 (200)\ttotal: 43.3s\tremaining: 2m 16s\n",
      "300:\tlearn: 6.2867233\ttest: 6.2361112\ttest1: 7.0836562\tbest: 7.0836562 (300)\ttotal: 1m 3s\tremaining: 1m 52s\n",
      "400:\tlearn: 6.2251849\ttest: 6.2290770\ttest1: 7.0452357\tbest: 7.0448841 (398)\ttotal: 1m 21s\tremaining: 1m 28s\n",
      "500:\tlearn: 6.1744473\ttest: 6.2636117\ttest1: 7.0223938\tbest: 7.0223938 (499)\ttotal: 1m 43s\tremaining: 1m 8s\n",
      "600:\tlearn: 6.0999667\ttest: 6.3400477\ttest1: 7.0055374\tbest: 7.0045668 (597)\ttotal: 2m 5s\tremaining: 48.9s\n",
      "Stopped by overfitting detector  (35 iterations wait)\n",
      "\n",
      "bestTest = 7.004566773\n",
      "bestIteration = 597\n",
      "\n",
      "Shrink model to first 598 iterations.\n"
     ]
    },
    {
     "name": "stderr",
     "output_type": "stream",
     "text": [
      "[I 2024-03-28 14:30:40,122] Trial 6 finished with value: 7.004566772682307 and parameters: {'learning_rate': 0.012545899554294089, 'bagging_temperature': 16.172900811143155, 'n_estimators': 835, 'max_depth': 16, 'random_strength': 77, 'colsample_bylevel': 0.5192294089205034, 'l2_leaf_reg': 1.7560829253683595e-07, 'min_child_samples': 83, 'max_bin': 412, 'od_type': 'Iter'}. Best is trial 1 with value: 5.45722059094952.\n"
     ]
    },
    {
     "name": "stdout",
     "output_type": "stream",
     "text": [
      "0:\tlearn: 6.8666031\ttest: 6.8629890\ttest1: 6.2863500\tbest: 6.2863500 (0)\ttotal: 132ms\tremaining: 2m 14s\n",
      "100:\tlearn: 6.6948177\ttest: 6.6062104\ttest1: 6.1409803\tbest: 6.1409803 (100)\ttotal: 23.2s\tremaining: 3m 31s\n",
      "200:\tlearn: 6.6170108\ttest: 6.4987292\ttest1: 6.0842221\tbest: 6.0842221 (200)\ttotal: 39.1s\tremaining: 2m 39s\n",
      "300:\tlearn: 6.5703507\ttest: 6.4366573\ttest1: 6.0515270\tbest: 6.0515270 (300)\ttotal: 52.9s\tremaining: 2m 6s\n",
      "400:\tlearn: 6.5032673\ttest: 6.4078908\ttest1: 6.0260902\tbest: 6.0260449 (399)\ttotal: 1m 8s\tremaining: 1m 45s\n",
      "500:\tlearn: 6.4596870\ttest: 6.3699976\ttest1: 6.0136403\tbest: 6.0136403 (500)\ttotal: 1m 24s\tremaining: 1m 27s\n",
      "600:\tlearn: 6.4317636\ttest: 6.3698175\ttest1: 6.0076070\tbest: 6.0075608 (599)\ttotal: 1m 35s\tremaining: 1m 6s\n",
      "700:\tlearn: 6.3874687\ttest: 6.3651220\ttest1: 6.0013068\tbest: 6.0007475 (672)\ttotal: 1m 51s\tremaining: 50.7s\n",
      "Stopped by overfitting detector  (35 iterations wait)\n",
      "\n",
      "bestTest = 6.000747501\n",
      "bestIteration = 672\n",
      "\n",
      "Shrink model to first 673 iterations.\n"
     ]
    },
    {
     "name": "stderr",
     "output_type": "stream",
     "text": [
      "[I 2024-03-28 14:32:33,495] Trial 7 finished with value: 6.000747500947168 and parameters: {'learning_rate': 0.011265617213006592, 'bagging_temperature': 0.27155819552829413, 'n_estimators': 1021, 'max_depth': 15, 'random_strength': 62, 'colsample_bylevel': 0.5985388149115896, 'l2_leaf_reg': 1.9161149250778487e-06, 'min_child_samples': 34, 'max_bin': 297, 'od_type': 'IncToDec'}. Best is trial 1 with value: 5.45722059094952.\n"
     ]
    },
    {
     "name": "stdout",
     "output_type": "stream",
     "text": [
      "0:\tlearn: 7.0098142\ttest: 7.0098142\ttest1: 5.6171659\tbest: 5.6171659 (0)\ttotal: 51.2ms\tremaining: 53.1s\n",
      "100:\tlearn: 6.4850843\ttest: 6.3682805\ttest1: 5.1898840\tbest: 5.1890571 (92)\ttotal: 11.9s\tremaining: 1m 49s\n",
      "200:\tlearn: 6.2625847\ttest: 6.3501865\ttest1: 5.1661159\tbest: 5.1637415 (183)\ttotal: 23.1s\tremaining: 1m 36s\n",
      "Stopped by overfitting detector  (35 iterations wait)\n",
      "\n",
      "bestTest = 5.163741485\n",
      "bestIteration = 183\n",
      "\n",
      "Shrink model to first 184 iterations.\n"
     ]
    },
    {
     "name": "stderr",
     "output_type": "stream",
     "text": [
      "[I 2024-03-28 14:32:59,190] Trial 8 finished with value: 5.16374148476126 and parameters: {'learning_rate': 0.04169990777997927, 'bagging_temperature': 0.7742116473996251, 'n_estimators': 1038, 'max_depth': 13, 'random_strength': 76, 'colsample_bylevel': 0.7367663185416977, 'l2_leaf_reg': 2.3131305726837285e-05, 'min_child_samples': 52, 'max_bin': 357, 'od_type': 'IncToDec'}. Best is trial 8 with value: 5.16374148476126.\n"
     ]
    },
    {
     "name": "stdout",
     "output_type": "stream",
     "text": [
      "0:\tlearn: 6.7826095\ttest: 6.7818458\ttest1: 6.6406040\tbest: 6.6406040 (0)\ttotal: 169ms\tremaining: 9m 29s\n",
      "100:\tlearn: 6.6673490\ttest: 6.5695070\ttest1: 6.5101422\tbest: 6.5101422 (100)\ttotal: 7.74s\tremaining: 4m 9s\n",
      "200:\tlearn: 6.6102566\ttest: 6.4483657\ttest1: 6.4166871\tbest: 6.4166871 (200)\ttotal: 13.7s\tremaining: 3m 35s\n",
      "300:\tlearn: 6.5752126\ttest: 6.3877042\ttest1: 6.3863571\tbest: 6.3863571 (300)\ttotal: 20.4s\tremaining: 3m 27s\n",
      "400:\tlearn: 6.5450004\ttest: 6.3332659\ttest1: 6.3430061\tbest: 6.3430061 (400)\ttotal: 27.1s\tremaining: 3m 20s\n",
      "500:\tlearn: 6.5203688\ttest: 6.3113372\ttest1: 6.3327242\tbest: 6.3321134 (496)\ttotal: 33.9s\tremaining: 3m 13s\n",
      "600:\tlearn: 6.5030257\ttest: 6.2939659\ttest1: 6.3243921\tbest: 6.3243921 (600)\ttotal: 40.6s\tremaining: 3m 6s\n",
      "700:\tlearn: 6.4859750\ttest: 6.2895567\ttest1: 6.3203468\tbest: 6.3203215 (697)\ttotal: 47.6s\tremaining: 3m\n",
      "800:\tlearn: 6.4630615\ttest: 6.2756579\ttest1: 6.2992875\tbest: 6.2989887 (789)\ttotal: 54.5s\tremaining: 2m 54s\n",
      "Stopped by overfitting detector  (35 iterations wait)\n",
      "\n",
      "bestTest = 6.298988698\n",
      "bestIteration = 789\n",
      "\n",
      "Shrink model to first 790 iterations.\n"
     ]
    },
    {
     "name": "stderr",
     "output_type": "stream",
     "text": [
      "[I 2024-03-28 14:33:56,069] Trial 9 finished with value: 6.298988697906698 and parameters: {'learning_rate': 0.011896326393433528, 'bagging_temperature': 0.0133572404119741, 'n_estimators': 3364, 'max_depth': 8, 'random_strength': 51, 'colsample_bylevel': 0.9445398843556558, 'l2_leaf_reg': 7.486273952174759e-06, 'min_child_samples': 44, 'max_bin': 427, 'od_type': 'IncToDec'}. Best is trial 8 with value: 5.16374148476126.\n"
     ]
    },
    {
     "name": "stdout",
     "output_type": "stream",
     "text": [
      "Best Score: 5.16374148476126\n",
      "Best trial {'learning_rate': 0.04169990777997927, 'bagging_temperature': 0.7742116473996251, 'n_estimators': 1038, 'max_depth': 13, 'random_strength': 76, 'colsample_bylevel': 0.7367663185416977, 'l2_leaf_reg': 2.3131305726837285e-05, 'min_child_samples': 52, 'max_bin': 357, 'od_type': 'IncToDec'}\n"
     ]
    }
   ],
   "source": [
    "sampler = TPESampler(seed=42)\n",
    "study = optuna.create_study(\n",
    "    study_name = 'cat_parameter_opt',\n",
    "    direction = 'minimize',\n",
    "    sampler = sampler,\n",
    ")\n",
    "\n",
    "study.optimize(objective, n_trials=10)\n",
    "print(\"Best Score:\",study.best_value)\n",
    "print(\"Best trial\",study.best_trial.params)"
   ]
  },
  {
   "cell_type": "code",
   "execution_count": 45,
   "metadata": {
    "executionInfo": {
     "elapsed": 266,
     "status": "ok",
     "timestamp": 1640067314659,
     "user": {
      "displayName": "조경덕",
      "photoUrl": "https://lh3.googleusercontent.com/a/default-user=s64",
      "userId": "14679603036547633295"
     },
     "user_tz": -540
    },
    "id": "cnsES_K6JOPF"
   },
   "outputs": [],
   "source": [
    "# 최적 하이퍼파라미터\n",
    "cat_param = study.best_trial.params"
   ]
  },
  {
   "cell_type": "code",
   "execution_count": 46,
   "metadata": {
    "colab": {
     "base_uri": "https://localhost:8080/"
    },
    "executionInfo": {
     "elapsed": 7,
     "status": "ok",
     "timestamp": 1640067314659,
     "user": {
      "displayName": "조경덕",
      "photoUrl": "https://lh3.googleusercontent.com/a/default-user=s64",
      "userId": "14679603036547633295"
     },
     "user_tz": -540
    },
    "id": "IfZZRGUNJEP4",
    "outputId": "8bca3582-a493-44d7-8603-d06c63e8e650"
   },
   "outputs": [],
   "source": [
    "skf = StratifiedKFold(n_splits=10, shuffle=True, random_state=42)\n",
    "folds = []\n",
    "for train_idx, valid_idx in skf.split(train, train['INVC_CONT']):\n",
    "    folds.append((train_idx,valid_idx))"
   ]
  },
  {
   "cell_type": "code",
   "execution_count": 47,
   "metadata": {
    "colab": {
     "base_uri": "https://localhost:8080/"
    },
    "collapsed": true,
    "executionInfo": {
     "elapsed": 1725559,
     "status": "ok",
     "timestamp": 1640069040214,
     "user": {
      "displayName": "조경덕",
      "photoUrl": "https://lh3.googleusercontent.com/a/default-user=s64",
      "userId": "14679603036547633295"
     },
     "user_tz": -540
    },
    "id": "AbQtP_perdqS",
    "outputId": "64697910-f5c3-46f2-9f48-7713a20aae50"
   },
   "outputs": [
    {
     "name": "stdout",
     "output_type": "stream",
     "text": [
      "====================================1============================================\n",
      "0:\tlearn: 6.7620329\ttest: 6.7595631\ttest1: 6.6522580\tbest: 6.6522580 (0)\ttotal: 106ms\tremaining: 1m 49s\n",
      "100:\tlearn: 6.2601972\ttest: 6.3751076\ttest1: 6.4185694\tbest: 6.4111990 (90)\ttotal: 12.6s\tremaining: 1m 57s\n",
      "Stopped by overfitting detector  (35 iterations wait)\n",
      "\n",
      "bestTest = 6.397430977\n",
      "bestIteration = 141\n",
      "\n",
      "Shrink model to first 142 iterations.\n",
      "================================================================================\n",
      "\n",
      "\n",
      "====================================2============================================\n",
      "0:\tlearn: 6.6234179\ttest: 6.6205735\ttest1: 7.7996692\tbest: 7.7996692 (0)\ttotal: 142ms\tremaining: 2m 27s\n",
      "100:\tlearn: 6.1972868\ttest: 6.1117427\ttest1: 7.2062843\tbest: 7.2062843 (100)\ttotal: 12.1s\tremaining: 1m 52s\n",
      "200:\tlearn: 5.9702972\ttest: 6.0208732\ttest1: 7.0550307\tbest: 7.0541032 (194)\ttotal: 23.3s\tremaining: 1m 37s\n",
      "300:\tlearn: 5.6653044\ttest: 5.9428406\ttest1: 6.8129420\tbest: 6.8129420 (300)\ttotal: 37.2s\tremaining: 1m 31s\n",
      "400:\tlearn: 4.9463628\ttest: 5.8000013\ttest1: 6.6868251\tbest: 6.6823506 (375)\ttotal: 1m 2s\tremaining: 1m 40s\n",
      "Stopped by overfitting detector  (35 iterations wait)\n",
      "\n",
      "bestTest = 6.682350566\n",
      "bestIteration = 375\n",
      "\n",
      "Shrink model to first 376 iterations.\n",
      "================================================================================\n",
      "\n",
      "\n",
      "====================================3============================================\n",
      "0:\tlearn: 6.7288304\ttest: 6.7261578\ttest1: 6.9436682\tbest: 6.9436682 (0)\ttotal: 110ms\tremaining: 1m 53s\n",
      "100:\tlearn: 6.2550240\ttest: 6.2987964\ttest1: 6.7273044\tbest: 6.7273044 (100)\ttotal: 11.4s\tremaining: 1m 46s\n",
      "Stopped by overfitting detector  (35 iterations wait)\n",
      "\n",
      "bestTest = 6.722309714\n",
      "bestIteration = 112\n",
      "\n",
      "Shrink model to first 113 iterations.\n",
      "================================================================================\n",
      "\n",
      "\n",
      "====================================4============================================\n",
      "0:\tlearn: 6.8621777\ttest: 6.8590742\ttest1: 5.6581662\tbest: 5.6581662 (0)\ttotal: 133ms\tremaining: 2m 17s\n",
      "100:\tlearn: 6.5269903\ttest: 6.3637338\ttest1: 5.4485469\tbest: 5.4485469 (100)\ttotal: 11.7s\tremaining: 1m 48s\n",
      "Stopped by overfitting detector  (35 iterations wait)\n",
      "\n",
      "bestTest = 5.40053771\n",
      "bestIteration = 162\n",
      "\n",
      "Shrink model to first 163 iterations.\n",
      "================================================================================\n",
      "\n",
      "\n",
      "====================================5============================================\n",
      "0:\tlearn: 6.7240894\ttest: 6.7089523\ttest1: 6.8936168\tbest: 6.8936168 (0)\ttotal: 462ms\tremaining: 7m 59s\n",
      "100:\tlearn: 6.3890975\ttest: 6.3775923\ttest1: 6.6062045\tbest: 6.6017746 (97)\ttotal: 13.5s\tremaining: 2m 5s\n",
      "Stopped by overfitting detector  (35 iterations wait)\n",
      "\n",
      "bestTest = 6.589688876\n",
      "bestIteration = 124\n",
      "\n",
      "Shrink model to first 125 iterations.\n",
      "================================================================================\n",
      "\n",
      "\n",
      "====================================6============================================\n",
      "0:\tlearn: 6.8008737\ttest: 6.7926080\ttest1: 6.2395333\tbest: 6.2395333 (0)\ttotal: 177ms\tremaining: 3m 3s\n",
      "100:\tlearn: 6.3575524\ttest: 6.3098436\ttest1: 6.1477526\tbest: 6.1465445 (86)\ttotal: 14.3s\tremaining: 2m 12s\n",
      "Stopped by overfitting detector  (35 iterations wait)\n",
      "\n",
      "bestTest = 6.146544491\n",
      "bestIteration = 86\n",
      "\n",
      "Shrink model to first 87 iterations.\n",
      "================================================================================\n",
      "\n",
      "\n",
      "====================================7============================================\n",
      "0:\tlearn: 6.3614998\ttest: 6.3505989\ttest1: 9.4930448\tbest: 9.4930448 (0)\ttotal: 439ms\tremaining: 7m 35s\n",
      "100:\tlearn: 6.0395299\ttest: 5.9931600\ttest1: 9.1767928\tbest: 9.1767928 (100)\ttotal: 13.7s\tremaining: 2m 6s\n",
      "200:\tlearn: 5.8471654\ttest: 5.9553207\ttest1: 8.8714100\tbest: 8.8696671 (198)\ttotal: 29.4s\tremaining: 2m 2s\n",
      "300:\tlearn: 5.6625648\ttest: 5.9413670\ttest1: 8.5963689\tbest: 8.5963689 (300)\ttotal: 43.2s\tremaining: 1m 45s\n",
      "400:\tlearn: 4.8982367\ttest: 6.0007582\ttest1: 8.1417979\tbest: 8.1405350 (399)\ttotal: 1m 11s\tremaining: 1m 53s\n",
      "500:\tlearn: 4.4435601\ttest: 5.9560779\ttest1: 8.0384351\tbest: 8.0384351 (500)\ttotal: 1m 46s\tremaining: 1m 54s\n",
      "Stopped by overfitting detector  (35 iterations wait)\n",
      "\n",
      "bestTest = 8.018338945\n",
      "bestIteration = 510\n",
      "\n",
      "Shrink model to first 511 iterations.\n",
      "================================================================================\n",
      "\n",
      "\n",
      "====================================8============================================\n",
      "0:\tlearn: 6.8809224\ttest: 6.8659469\ttest1: 5.3514241\tbest: 5.3514241 (0)\ttotal: 404ms\tremaining: 6m 58s\n",
      "Stopped by overfitting detector  (35 iterations wait)\n",
      "\n",
      "bestTest = 5.163473566\n",
      "bestIteration = 54\n",
      "\n",
      "Shrink model to first 55 iterations.\n",
      "================================================================================\n",
      "\n",
      "\n",
      "====================================9============================================\n",
      "0:\tlearn: 6.8761915\ttest: 6.8659593\ttest1: 5.3933714\tbest: 5.3933714 (0)\ttotal: 462ms\tremaining: 7m 59s\n",
      "Stopped by overfitting detector  (35 iterations wait)\n",
      "\n",
      "bestTest = 5.286108466\n",
      "bestIteration = 60\n",
      "\n",
      "Shrink model to first 61 iterations.\n",
      "================================================================================\n",
      "\n",
      "\n",
      "====================================10============================================\n",
      "0:\tlearn: 6.8290347\ttest: 6.8214225\ttest1: 5.9641011\tbest: 5.9641011 (0)\ttotal: 301ms\tremaining: 5m 11s\n",
      "100:\tlearn: 6.3124698\ttest: 6.3878946\ttest1: 5.7363700\tbest: 5.7360151 (99)\ttotal: 15.3s\tremaining: 2m 21s\n",
      "200:\tlearn: 6.1619087\ttest: 6.3532886\ttest1: 5.7176735\tbest: 5.7118169 (172)\ttotal: 31.6s\tremaining: 2m 11s\n",
      "Stopped by overfitting detector  (35 iterations wait)\n",
      "\n",
      "bestTest = 5.71181685\n",
      "bestIteration = 172\n",
      "\n",
      "Shrink model to first 173 iterations.\n",
      "================================================================================\n",
      "\n",
      "\n"
     ]
    }
   ],
   "source": [
    "skf = StratifiedKFold(n_splits=10, shuffle=True, random_state=42)\n",
    "folds = []\n",
    "for train_idx, valid_idx in skf.split(train, train['INVC_CONT']):\n",
    "    folds.append((train_idx,valid_idx))\n",
    "\n",
    "random.seed(42)\n",
    "cat_models={}\n",
    "\n",
    "cat_features =range(X_test.shape[1])\n",
    "\n",
    "for fold in range(10):\n",
    "    print(f'===================================={fold+1}============================================')\n",
    "    train_idx, valid_idx = folds[fold]\n",
    "    X_train = train.drop(['INVC_CONT'],axis=1).iloc[train_idx]\n",
    "    X_valid = train.drop(['INVC_CONT'],axis=1).iloc[valid_idx]\n",
    "    y_train = train['INVC_CONT'][train_idx].values\n",
    "    y_valid = train['INVC_CONT'][valid_idx].values\n",
    "\n",
    "    cat = CatBoostRegressor(**cat_param)\n",
    "    cat.fit(X_train, y_train, \n",
    "            eval_set=[(X_train, y_train), (X_valid,y_valid)],\n",
    "            early_stopping_rounds=35,cat_features=cat_features,\n",
    "            verbose=100)\n",
    "    cat_models[fold] = cat\n",
    "    print(f'================================================================================\\n\\n')"
   ]
  },
  {
   "cell_type": "code",
   "execution_count": 49,
   "metadata": {
    "executionInfo": {
     "elapsed": 1012,
     "status": "ok",
     "timestamp": 1640069041212,
     "user": {
      "displayName": "조경덕",
      "photoUrl": "https://lh3.googleusercontent.com/a/default-user=s64",
      "userId": "14679603036547633295"
     },
     "user_tz": -540
    },
    "id": "rEHfo474Vx7I"
   },
   "outputs": [],
   "source": [
    "for fold in range(10):\n",
    "    submission.loc[:,'운송장_건수'] += cat_models[fold].predict(test)/10"
   ]
  },
  {
   "cell_type": "code",
   "execution_count": 52,
   "metadata": {
    "executionInfo": {
     "elapsed": 7,
     "status": "ok",
     "timestamp": 1640069041214,
     "user": {
      "displayName": "조경덕",
      "photoUrl": "https://lh3.googleusercontent.com/a/default-user=s64",
      "userId": "14679603036547633295"
     },
     "user_tz": -540
    },
    "id": "oLT2Czv6V0ia"
   },
   "outputs": [],
   "source": [
    "submission.loc[submission.운송장_건수>30,'운송장_건수']=submission.loc[submission.운송장_건수>30,'운송장_건수']*4.8\n",
    "submission.to_csv('./data/submission_0328.csv',index = False)"
   ]
  },
  {
   "cell_type": "code",
   "execution_count": 53,
   "metadata": {},
   "outputs": [
    {
     "data": {
      "text/html": [
       "<div>\n",
       "<style scoped>\n",
       "    .dataframe tbody tr th:only-of-type {\n",
       "        vertical-align: middle;\n",
       "    }\n",
       "\n",
       "    .dataframe tbody tr th {\n",
       "        vertical-align: top;\n",
       "    }\n",
       "\n",
       "    .dataframe thead th {\n",
       "        text-align: right;\n",
       "    }\n",
       "</style>\n",
       "<table border=\"1\" class=\"dataframe\">\n",
       "  <thead>\n",
       "    <tr style=\"text-align: right;\">\n",
       "      <th></th>\n",
       "      <th>index</th>\n",
       "      <th>운송장_건수</th>\n",
       "    </tr>\n",
       "  </thead>\n",
       "  <tbody>\n",
       "    <tr>\n",
       "      <th>0</th>\n",
       "      <td>0</td>\n",
       "      <td>6.651738</td>\n",
       "    </tr>\n",
       "    <tr>\n",
       "      <th>1</th>\n",
       "      <td>1</td>\n",
       "      <td>5.951330</td>\n",
       "    </tr>\n",
       "    <tr>\n",
       "      <th>2</th>\n",
       "      <td>2</td>\n",
       "      <td>5.104412</td>\n",
       "    </tr>\n",
       "    <tr>\n",
       "      <th>3</th>\n",
       "      <td>3</td>\n",
       "      <td>4.519996</td>\n",
       "    </tr>\n",
       "    <tr>\n",
       "      <th>4</th>\n",
       "      <td>4</td>\n",
       "      <td>5.797217</td>\n",
       "    </tr>\n",
       "    <tr>\n",
       "      <th>...</th>\n",
       "      <td>...</td>\n",
       "      <td>...</td>\n",
       "    </tr>\n",
       "    <tr>\n",
       "      <th>7915</th>\n",
       "      <td>7915</td>\n",
       "      <td>5.169260</td>\n",
       "    </tr>\n",
       "    <tr>\n",
       "      <th>7916</th>\n",
       "      <td>7916</td>\n",
       "      <td>6.243764</td>\n",
       "    </tr>\n",
       "    <tr>\n",
       "      <th>7917</th>\n",
       "      <td>7917</td>\n",
       "      <td>3.711761</td>\n",
       "    </tr>\n",
       "    <tr>\n",
       "      <th>7918</th>\n",
       "      <td>7918</td>\n",
       "      <td>3.758050</td>\n",
       "    </tr>\n",
       "    <tr>\n",
       "      <th>7919</th>\n",
       "      <td>7919</td>\n",
       "      <td>6.021732</td>\n",
       "    </tr>\n",
       "  </tbody>\n",
       "</table>\n",
       "<p>7920 rows × 2 columns</p>\n",
       "</div>"
      ],
      "text/plain": [
       "      index    운송장_건수\n",
       "0         0  6.651738\n",
       "1         1  5.951330\n",
       "2         2  5.104412\n",
       "3         3  4.519996\n",
       "4         4  5.797217\n",
       "...     ...       ...\n",
       "7915   7915  5.169260\n",
       "7916   7916  6.243764\n",
       "7917   7917  3.711761\n",
       "7918   7918  3.758050\n",
       "7919   7919  6.021732\n",
       "\n",
       "[7920 rows x 2 columns]"
      ]
     },
     "execution_count": 53,
     "metadata": {},
     "output_type": "execute_result"
    }
   ],
   "source": [
    "pd.read_csv(\"./data/submission.csv\")"
   ]
  }
 ],
 "metadata": {
  "colab": {
   "authorship_tag": "ABX9TyNkAUVk7q1lGnTHg/aelxpN",
   "collapsed_sections": [],
   "name": "Logistics distribution forecasting contest.ipynb",
   "provenance": []
  },
  "kernelspec": {
   "display_name": "Python 3 (ipykernel)",
   "language": "python",
   "name": "python3"
  },
  "language_info": {
   "codemirror_mode": {
    "name": "ipython",
    "version": 3
   },
   "file_extension": ".py",
   "mimetype": "text/x-python",
   "name": "python",
   "nbconvert_exporter": "python",
   "pygments_lexer": "ipython3",
   "version": "3.9.16"
  }
 },
 "nbformat": 4,
 "nbformat_minor": 1
}
