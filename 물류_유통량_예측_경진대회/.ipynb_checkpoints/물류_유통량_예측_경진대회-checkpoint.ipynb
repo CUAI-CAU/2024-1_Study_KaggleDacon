{
 "cells": [
  {
   "cell_type": "markdown",
   "metadata": {
    "id": "udonF9tQaCcw"
   },
   "source": [
    "## 1.Library & Data Load"
   ]
  },
  {
   "cell_type": "code",
   "execution_count": 1,
   "metadata": {
    "collapsed": true,
    "id": "F9lyXc90w-sP"
   },
   "outputs": [
    {
     "name": "stdout",
     "output_type": "stream",
     "text": [
      "Requirement already satisfied: catboost in c:\\users\\songk\\anaconda3\\lib\\site-packages (1.2.3)\n",
      "Requirement already satisfied: graphviz in c:\\users\\songk\\anaconda3\\lib\\site-packages (from catboost) (0.20.1)\n",
      "Requirement already satisfied: matplotlib in c:\\users\\songk\\anaconda3\\lib\\site-packages (from catboost) (3.7.1)\n",
      "Requirement already satisfied: numpy>=1.16.0 in c:\\users\\songk\\anaconda3\\lib\\site-packages (from catboost) (1.24.3)\n",
      "Requirement already satisfied: pandas>=0.24 in c:\\users\\songk\\anaconda3\\lib\\site-packages (from catboost) (1.5.3)\n",
      "Requirement already satisfied: scipy in c:\\users\\songk\\anaconda3\\lib\\site-packages (from catboost) (1.10.1)\n",
      "Requirement already satisfied: plotly in c:\\users\\songk\\anaconda3\\lib\\site-packages (from catboost) (5.15.0)\n",
      "Requirement already satisfied: six in c:\\users\\songk\\anaconda3\\lib\\site-packages (from catboost) (1.16.0)\n",
      "Requirement already satisfied: python-dateutil>=2.8.1 in c:\\users\\songk\\anaconda3\\lib\\site-packages (from pandas>=0.24->catboost) (2.8.2)\n",
      "Requirement already satisfied: pytz>=2020.1 in c:\\users\\songk\\anaconda3\\lib\\site-packages (from pandas>=0.24->catboost) (2022.7)\n",
      "Requirement already satisfied: contourpy>=1.0.1 in c:\\users\\songk\\anaconda3\\lib\\site-packages (from matplotlib->catboost) (1.0.5)\n",
      "Requirement already satisfied: cycler>=0.10 in c:\\users\\songk\\anaconda3\\lib\\site-packages (from matplotlib->catboost) (0.11.0)\n",
      "Requirement already satisfied: fonttools>=4.22.0 in c:\\users\\songk\\anaconda3\\lib\\site-packages (from matplotlib->catboost) (4.25.0)\n",
      "Requirement already satisfied: kiwisolver>=1.0.1 in c:\\users\\songk\\anaconda3\\lib\\site-packages (from matplotlib->catboost) (1.4.4)\n",
      "Requirement already satisfied: packaging>=20.0 in c:\\users\\songk\\anaconda3\\lib\\site-packages (from matplotlib->catboost) (23.0)\n",
      "Requirement already satisfied: pillow>=6.2.0 in c:\\users\\songk\\anaconda3\\lib\\site-packages (from matplotlib->catboost) (9.4.0)\n",
      "Requirement already satisfied: pyparsing>=2.3.1 in c:\\users\\songk\\anaconda3\\lib\\site-packages (from matplotlib->catboost) (3.0.9)\n",
      "Requirement already satisfied: importlib-resources>=3.2.0 in c:\\users\\songk\\anaconda3\\lib\\site-packages (from matplotlib->catboost) (5.2.0)\n",
      "Requirement already satisfied: tenacity>=6.2.0 in c:\\users\\songk\\anaconda3\\lib\\site-packages (from plotly->catboost) (8.2.2)\n",
      "Requirement already satisfied: zipp>=3.1.0 in c:\\users\\songk\\anaconda3\\lib\\site-packages (from importlib-resources>=3.2.0->matplotlib->catboost) (3.11.0)\n"
     ]
    },
    {
     "name": "stderr",
     "output_type": "stream",
     "text": [
      "WARNING: Ignoring invalid distribution -ensorflow-intel (c:\\users\\songk\\anaconda3\\lib\\site-packages)\n",
      "WARNING: Ignoring invalid distribution -pype1 (c:\\users\\songk\\anaconda3\\lib\\site-packages)\n",
      "WARNING: Ignoring invalid distribution -ensorflow-intel (c:\\users\\songk\\anaconda3\\lib\\site-packages)\n",
      "WARNING: Ignoring invalid distribution -pype1 (c:\\users\\songk\\anaconda3\\lib\\site-packages)\n"
     ]
    },
    {
     "name": "stdout",
     "output_type": "stream",
     "text": [
      "Requirement already satisfied: optuna in c:\\users\\songk\\anaconda3\\lib\\site-packages (3.2.0)\n",
      "Requirement already satisfied: alembic>=1.5.0 in c:\\users\\songk\\anaconda3\\lib\\site-packages (from optuna) (1.11.1)\n",
      "Requirement already satisfied: cmaes>=0.9.1 in c:\\users\\songk\\anaconda3\\lib\\site-packages (from optuna) (0.10.0)\n",
      "Requirement already satisfied: colorlog in c:\\users\\songk\\anaconda3\\lib\\site-packages (from optuna) (6.7.0)\n",
      "Requirement already satisfied: numpy in c:\\users\\songk\\anaconda3\\lib\\site-packages (from optuna) (1.24.3)\n",
      "Requirement already satisfied: packaging>=20.0 in c:\\users\\songk\\anaconda3\\lib\\site-packages (from optuna) (23.0)\n",
      "Requirement already satisfied: sqlalchemy>=1.3.0 in c:\\users\\songk\\anaconda3\\lib\\site-packages (from optuna) (1.4.39)\n",
      "Requirement already satisfied: tqdm in c:\\users\\songk\\anaconda3\\lib\\site-packages (from optuna) (4.65.0)\n",
      "Requirement already satisfied: PyYAML in c:\\users\\songk\\anaconda3\\lib\\site-packages (from optuna) (6.0)\n",
      "Requirement already satisfied: Mako in c:\\users\\songk\\anaconda3\\lib\\site-packages (from alembic>=1.5.0->optuna) (1.2.4)\n",
      "Requirement already satisfied: typing-extensions>=4 in c:\\users\\songk\\anaconda3\\lib\\site-packages (from alembic>=1.5.0->optuna) (4.9.0)\n",
      "Requirement already satisfied: greenlet!=0.4.17 in c:\\users\\songk\\anaconda3\\lib\\site-packages (from sqlalchemy>=1.3.0->optuna) (2.0.1)\n",
      "Requirement already satisfied: colorama in c:\\users\\songk\\anaconda3\\lib\\site-packages (from colorlog->optuna) (0.4.6)\n",
      "Requirement already satisfied: MarkupSafe>=0.9.2 in c:\\users\\songk\\anaconda3\\lib\\site-packages (from Mako->alembic>=1.5.0->optuna) (2.1.1)\n"
     ]
    },
    {
     "name": "stderr",
     "output_type": "stream",
     "text": [
      "WARNING: Ignoring invalid distribution -ensorflow-intel (c:\\users\\songk\\anaconda3\\lib\\site-packages)\n",
      "WARNING: Ignoring invalid distribution -pype1 (c:\\users\\songk\\anaconda3\\lib\\site-packages)\n",
      "WARNING: Ignoring invalid distribution -ensorflow-intel (c:\\users\\songk\\anaconda3\\lib\\site-packages)\n",
      "WARNING: Ignoring invalid distribution -pype1 (c:\\users\\songk\\anaconda3\\lib\\site-packages)\n"
     ]
    }
   ],
   "source": [
    "!pip install catboost\n",
    "!pip install optuna"
   ]
  },
  {
   "cell_type": "code",
   "execution_count": 2,
   "metadata": {
    "collapsed": true,
    "executionInfo": {
     "elapsed": 2569,
     "status": "ok",
     "timestamp": 1640066627649,
     "user": {
      "displayName": "조경덕",
      "photoUrl": "https://lh3.googleusercontent.com/a/default-user=s64",
      "userId": "14679603036547633295"
     },
     "user_tz": -540
    },
    "id": "Yld6Bu1JUNNS"
   },
   "outputs": [
    {
     "name": "stderr",
     "output_type": "stream",
     "text": [
      "C:\\Users\\songk\\anaconda3\\lib\\site-packages\\xgboost\\compat.py:36: FutureWarning: pandas.Int64Index is deprecated and will be removed from pandas in a future version. Use pandas.Index with the appropriate dtype instead.\n",
      "  from pandas import MultiIndex, Int64Index\n"
     ]
    }
   ],
   "source": [
    "import pandas as pd\n",
    "import numpy as np\n",
    "from catboost import CatBoostRegressor\n",
    "\n",
    "from tqdm import tqdm\n",
    "from sklearn.model_selection import StratifiedKFold,train_test_split\n",
    "from sklearn.metrics import mean_squared_error\n",
    "\n",
    "import random\n",
    "import optuna\n",
    "from optuna.samplers import TPESampler\n",
    "\n",
    "import warnings\n",
    "warnings.filterwarnings(\"ignore\")"
   ]
  },
  {
   "cell_type": "code",
   "execution_count": 7,
   "metadata": {
    "executionInfo": {
     "elapsed": 1365,
     "status": "ok",
     "timestamp": 1640066680755,
     "user": {
      "displayName": "조경덕",
      "photoUrl": "https://lh3.googleusercontent.com/a/default-user=s64",
      "userId": "14679603036547633295"
     },
     "user_tz": -540
    },
    "id": "em7Q46G1UF7a"
   },
   "outputs": [],
   "source": [
    "train = pd.read_csv('./data/train.csv')\n",
    "test = pd.read_csv('./data/test.csv')\n",
    "\n",
    "submission = pd.read_csv('./data/sample_submission.csv')"
   ]
  },
  {
   "cell_type": "code",
   "execution_count": 8,
   "metadata": {},
   "outputs": [
    {
     "name": "stdout",
     "output_type": "stream",
     "text": [
      "전체 데이터 크기 : 31684\n",
      "송하인_격자공간고유번호 : 4229\n",
      "수하인_격자공간고유번호 : 26875\n"
     ]
    }
   ],
   "source": [
    "print(\"전체 데이터 크기 : \" + str(len(train)))\n",
    "print(\"송하인_격자공간고유번호 : \" + str(train['송하인_격자공간고유번호'].nunique()))\n",
    "print(\"수하인_격자공간고유번호 : \" + str(train['수하인_격자공간고유번호'].nunique()))"
   ]
  },
  {
   "cell_type": "markdown",
   "metadata": {
    "id": "fXG4hQAMaG5Y"
   },
   "source": [
    "## 2. Data Preprocess"
   ]
  },
  {
   "cell_type": "markdown",
   "metadata": {
    "id": "wuJ-SWx3aQCH"
   },
   "source": [
    "송하인 격자공간고유번호와 수하인격자공간고유번호가 연속형 자료로 취급하면 안된다고 생각하였습니다.\n",
    "\n",
    "격자공간고유번호의 16자리 중 자릿수마다 담고 있는 정보가 다를 것이라 생각하였고,\n",
    "데이터를 탐색해본 결과 1 ~ 5자리, 6 ~ 9자리, 10, 11 ~ 16자리가 가지고 있는 정보가 다를 것이라 생각했습니다.\n",
    "\n",
    "그리고 수하인 격자공간고유번호의 unique 수는 꽤 되지만 송하인 격자공간고유번호의 unique 수는 얼마 되지 않았습니다. \n",
    "\n",
    "따라서 송하인 격자공간고유번호는 1 ~ 5, 6 ~ 9, 10, 11 ~ 16자릿수로 나누고\n",
    "수하인 격자공간고유번호는 자릿수 별로 변수를 생성하였습니다.\n",
    "\n",
    "총 22개의 설명변수로 이루어진 데이터로 변환하였습니다."
   ]
  },
  {
   "cell_type": "markdown",
   "metadata": {},
   "source": [
    "#### 전처리 과정에 대한 의문\n",
    "- 전처리 과정 납득이 잘 되지 않음\n",
    "  - https://www.bigdata-region.kr/#/dataset/0ad3c882-f7ee-4faf-970d-00c53cb65a84\n",
    "  - 위 링크를 참고하여, 데이터 상 격자공간고유번호가 격자공간50미터 기준인 것으로 파악\n",
    "  - 격자공간 50미터의 경우, 시군구코드 + 나머지 형식으로 이루어짐\n",
    "  - 따라서 격자공간고유번호를 위와 같이 두 개로 나누기로 결정\n",
    "- 결과\n",
    "  - 원래 전처리 방식대로 진행했을 때 public score이 5.38, 위와 같은 가정으로 진행했을 때 public score이 5.95로 나옴\n",
    "  - 처음 방식의 전처리 과정에 비해 변수의 수가 너무 작아져서, 예측 성능이 떨어졌을 것이라 판단"
   ]
  },
  {
   "cell_type": "code",
   "execution_count": 9,
   "metadata": {
    "executionInfo": {
     "elapsed": 261,
     "status": "ok",
     "timestamp": 1640066684412,
     "user": {
      "displayName": "조경덕",
      "photoUrl": "https://lh3.googleusercontent.com/a/default-user=s64",
      "userId": "14679603036547633295"
     },
     "user_tz": -540
    },
    "id": "5EcknHeRygpi"
   },
   "outputs": [],
   "source": [
    "# 숫자를 자릿수별로 분리하는 함수\n",
    "def numround(number, digit):\n",
    "    num=[]\n",
    "    while(number!=0):\n",
    "        num.append(number % 10)\n",
    "        number = number // 10\n",
    "\n",
    "    return int(num[-digit]) # 마지막 자릿수부터 num 리스트에 채워지기 때문에 -digit 반환"
   ]
  },
  {
   "cell_type": "code",
   "execution_count": 10,
   "metadata": {},
   "outputs": [],
   "source": [
    "train.columns = ['index', 'SEND_SPG_INNB', 'REC_SPG_INNB', 'product_category', 'INVC_CONT']\n",
    "test.columns = ['index', 'SEND_SPG_INNB', 'REC_SPG_INNB', 'product_category']"
   ]
  },
  {
   "cell_type": "code",
   "execution_count": 11,
   "metadata": {
    "colab": {
     "base_uri": "https://localhost:8080/"
    },
    "executionInfo": {
     "elapsed": 629178,
     "status": "ok",
     "timestamp": 1640067313861,
     "user": {
      "displayName": "조경덕",
      "photoUrl": "https://lh3.googleusercontent.com/a/default-user=s64",
      "userId": "14679603036547633295"
     },
     "user_tz": -540
    },
    "id": "4mEaeYX74_PI",
    "outputId": "e739eea5-c769-46c2-8a2b-f6d16e355e62"
   },
   "outputs": [
    {
     "name": "stderr",
     "output_type": "stream",
     "text": [
      "100%|██████████████████████████████████████████████████████████████████████████████████| 16/16 [01:43<00:00,  6.45s/it]\n"
     ]
    }
   ],
   "source": [
    "# 각각 다른 column에 저장\n",
    "for i in tqdm(range(16)):\n",
    "    train[f'SEND_SPG_INNB_{i+1}'] = 0\n",
    "    train[f'REC_SPG_INNB_{i+1}'] = 0\n",
    "    test[f'SEND_SPG_INNB_{i+1}'] = 0\n",
    "    test[f'REC_SPG_INNB_{i+1}'] = 0\n",
    "    for j in range(train.shape[0]):\n",
    "        train.loc[j,f'SEND_SPG_INNB_{i+1}']=numround(train.loc[j,'SEND_SPG_INNB'],i+1)\n",
    "        train.loc[j,f'REC_SPG_INNB_{i+1}']=numround(train.loc[j,'REC_SPG_INNB'],i+1)\n",
    "\n",
    "    for j in range(test.shape[0]):\n",
    "        test.loc[j,f'SEND_SPG_INNB_{i+1}']=numround(test.loc[j,'SEND_SPG_INNB'],i+1)\n",
    "        test.loc[j,f'REC_SPG_INNB_{i+1}']=numround(test.loc[j,'REC_SPG_INNB'],i+1)\n"
   ]
  },
  {
   "cell_type": "code",
   "execution_count": 12,
   "metadata": {
    "executionInfo": {
     "elapsed": 13,
     "status": "ok",
     "timestamp": 1640067313861,
     "user": {
      "displayName": "조경덕",
      "photoUrl": "https://lh3.googleusercontent.com/a/default-user=s64",
      "userId": "14679603036547633295"
     },
     "user_tz": -540
    },
    "id": "-Zy_xrTUw-Gg"
   },
   "outputs": [],
   "source": [
    "# 송하인 격자공간고유번호 유의미한 범위 합치기\n",
    "train['SEND_SPG_INNB_1~5']=train['SEND_SPG_INNB_1']+train['SEND_SPG_INNB_2']+train['SEND_SPG_INNB_3']+train['SEND_SPG_INNB_4']+train['SEND_SPG_INNB_5']\n",
    "train['SEND_SPG_INNB_6~9']=train['SEND_SPG_INNB_6']+train['SEND_SPG_INNB_7']+train['SEND_SPG_INNB_8']+train['SEND_SPG_INNB_9']\n",
    "train['SEND_SPG_INNB_10']=train['SEND_SPG_INNB_10']\n",
    "train['SEND_SPG_INNB_11~16']=train['SEND_SPG_INNB_11']+train['SEND_SPG_INNB_12']+train['SEND_SPG_INNB_13']+train['SEND_SPG_INNB_14']+train['SEND_SPG_INNB_15']+train['SEND_SPG_INNB_16']\n",
    "\n",
    "test['SEND_SPG_INNB_1~5']=test['SEND_SPG_INNB_1']+test['SEND_SPG_INNB_2']+test['SEND_SPG_INNB_3']+test['SEND_SPG_INNB_4']+test['SEND_SPG_INNB_5']\n",
    "test['SEND_SPG_INNB_6~9']=test['SEND_SPG_INNB_6']+test['SEND_SPG_INNB_7']+test['SEND_SPG_INNB_8']+test['SEND_SPG_INNB_9']\n",
    "test['SEND_SPG_INNB_10']=test['SEND_SPG_INNB_10']\n",
    "test['SEND_SPG_INNB_11~16']=test['SEND_SPG_INNB_11']+test['SEND_SPG_INNB_12']+test['SEND_SPG_INNB_13']+test['SEND_SPG_INNB_14']+test['SEND_SPG_INNB_15']+test['SEND_SPG_INNB_16']"
   ]
  },
  {
   "cell_type": "code",
   "execution_count": 13,
   "metadata": {
    "executionInfo": {
     "elapsed": 5,
     "status": "ok",
     "timestamp": 1640067313862,
     "user": {
      "displayName": "조경덕",
      "photoUrl": "https://lh3.googleusercontent.com/a/default-user=s64",
      "userId": "14679603036547633295"
     },
     "user_tz": -540
    },
    "id": "EZ7Hhu66roPP"
   },
   "outputs": [],
   "source": [
    "# 필요없는 컬럼 제거\n",
    "train.index=train['index']\n",
    "test.index=test['index']\n",
    "train.drop(['REC_SPG_INNB','SEND_SPG_INNB','SEND_SPG_INNB_1','SEND_SPG_INNB_2','SEND_SPG_INNB_3','SEND_SPG_INNB_4','SEND_SPG_INNB_5','SEND_SPG_INNB_6','SEND_SPG_INNB_7',\n",
    "            'SEND_SPG_INNB_8','SEND_SPG_INNB_9','SEND_SPG_INNB_11','SEND_SPG_INNB_12','SEND_SPG_INNB_13','SEND_SPG_INNB_14','SEND_SPG_INNB_15','SEND_SPG_INNB_16','index'],axis=1,inplace=True)\n",
    "test.drop(['REC_SPG_INNB','SEND_SPG_INNB','SEND_SPG_INNB_1','SEND_SPG_INNB_2','SEND_SPG_INNB_3','SEND_SPG_INNB_4','SEND_SPG_INNB_5','SEND_SPG_INNB_6','SEND_SPG_INNB_7',\n",
    "            'SEND_SPG_INNB_8','SEND_SPG_INNB_9','SEND_SPG_INNB_11','SEND_SPG_INNB_12','SEND_SPG_INNB_13','SEND_SPG_INNB_14','SEND_SPG_INNB_15','SEND_SPG_INNB_16','index'],axis=1,inplace=True)"
   ]
  },
  {
   "cell_type": "code",
   "execution_count": 14,
   "metadata": {
    "executionInfo": {
     "elapsed": 542,
     "status": "ok",
     "timestamp": 1640067314400,
     "user": {
      "displayName": "조경덕",
      "photoUrl": "https://lh3.googleusercontent.com/a/default-user=s64",
      "userId": "14679603036547633295"
     },
     "user_tz": -540
    },
    "id": "xCzg8FuCxNZ5"
   },
   "outputs": [],
   "source": [
    "# 숫자형 변수를 연속형으로 취급하지 않고 category로 취급\n",
    "for col in test.columns:\n",
    "    train[col]=train[col].astype('category')\n",
    "    test[col]=test[col].astype('category')"
   ]
  },
  {
   "cell_type": "code",
   "execution_count": 15,
   "metadata": {
    "executionInfo": {
     "elapsed": 18,
     "status": "ok",
     "timestamp": 1640067314401,
     "user": {
      "displayName": "조경덕",
      "photoUrl": "https://lh3.googleusercontent.com/a/default-user=s64",
      "userId": "14679603036547633295"
     },
     "user_tz": -540
    },
    "id": "cFczb9CAqy5X"
   },
   "outputs": [],
   "source": [
    "#Optuna용 Train셋\n",
    "X = train.drop(['INVC_CONT'],axis=1)\n",
    "y = train['INVC_CONT']\n",
    "X_test = test.copy()"
   ]
  },
  {
   "cell_type": "markdown",
   "metadata": {
    "id": "UCAuqJlZbZJw"
   },
   "source": [
    "## 3. 모델링"
   ]
  },
  {
   "cell_type": "markdown",
   "metadata": {
    "id": "mjnK6n0YbdMo"
   },
   "source": [
    "Optuna로 Random Search를 통해 Catboost 최적의 파라미터를 사용하였습니다.\n",
    "objective 함수의 param에 파라미터를 넣고, 구간을 넣으면 랜덤한 값으로 학습되며\n",
    "rmse값이 반환되는 함수입니다. \"trial\"에 반복 횟수를 작성하면 됩니다.\n",
    "\n",
    "Catboost 특성상 학습이 오래 걸리기 때문에 최적의 파라미터를 찾아 cat_param로 정의하였습니다.\n",
    "\n",
    "(아래코드는 AIBoo님의 신용카드 사용자 연체 예측 AI 경진대회 [Private 8위 0.66203] | TYKIM | Catboost 코드를 참고하여 수정하였습니다.)"
   ]
  },
  {
   "attachments": {
    "image-5.png": {
     "image/png": "[encoded data removed]"
    }
   },
   "cell_type": "markdown",
   "metadata": {},
   "source": [
    "#### CatBoost\n",
    "- CatBoost\n",
    "    - Boosting 앙상블 기법중 하나로 직렬로 학습\n",
    "    - LEVEL- WISE 방식 옆으로 확장하는 방식\n",
    "        - LEVEL - WISE : 균형을 갖춰 확장하는 방식\n",
    "        ![image-5.png](attachment:image-5.png)\n",
    "    - 기존의 모델들은 학습데이터를 대상으로 잔차 계산 -> CatBoost는 학습 데이터의 일부만으로 잔차 계산\n",
    "- CatBoost의 장점    \n",
    "    - 범주형 변수가 많은 경우 성능이 좋음\n",
    "    - 시계열 데이터를 효울적으로 처리\n",
    "    - 속도가 빨라 예측 기능 효과적으로 사용 가능 \n",
    "- CatBoost의 한계\n",
    "    - Bagging 방식에 비해서는 느림, 과적함이 쉬움\n",
    "    - 데이터 대부분이 수치형인 경우 Light GBM보다 학습 속도가 느림"
   ]
  },
  {
   "cell_type": "code",
   "execution_count": 14,
   "metadata": {
    "executionInfo": {
     "elapsed": 13,
     "status": "ok",
     "timestamp": 1640067314405,
     "user": {
      "displayName": "조경덕",
      "photoUrl": "https://lh3.googleusercontent.com/a/default-user=s64",
      "userId": "14679603036547633295"
     },
     "user_tz": -540
    },
    "id": "RyZ8xXe2sYdb"
   },
   "outputs": [],
   "source": [
    "def objective(trial):\n",
    "    param = {\n",
    "        \"random_state\":42,\n",
    "        'learning_rate' : trial.suggest_loguniform('learning_rate', 0.01, 0.05),\n",
    "        'bagging_temperature' :trial.suggest_loguniform('bagging_temperature', 0.01, 100.00),\n",
    "        \"n_estimators\":trial.suggest_int(\"n_estimators\", 500, 5000),\n",
    "        \"max_depth\":trial.suggest_int(\"max_depth\", 4, 16),\n",
    "        'random_strength' :trial.suggest_int('random_strength', 0, 100),\n",
    "        \"colsample_bylevel\":trial.suggest_float(\"colsample_bylevel\", 0.4, 1.0),\n",
    "        \"l2_leaf_reg\":trial.suggest_float(\"l2_leaf_reg\",1e-8,3e-5),\n",
    "        \"min_child_samples\": trial.suggest_int(\"min_child_samples\", 5, 100),\n",
    "        \"max_bin\": trial.suggest_int(\"max_bin\", 200, 500),\n",
    "        'od_type': trial.suggest_categorical('od_type', ['IncToDec', 'Iter']),\n",
    "    }\n",
    "    X_train, X_valid, y_train, y_valid = train_test_split(X,y,test_size=0.2)\n",
    "    cat_features = range(X_test.shape[1])\n",
    "    cat = CatBoostRegressor(**param)\n",
    "    cat.fit(X_train, y_train,\n",
    "            eval_set=[(X_train, y_train), (X_valid,y_valid)],\n",
    "            early_stopping_rounds=35,cat_features=cat_features,\n",
    "            verbose=100)\n",
    "    cat_pred = cat.predict(X_valid)\n",
    "    rmse = np.sqrt(mean_squared_error(y_valid, cat_pred))\n",
    " \n",
    "    return rmse"
   ]
  },
  {
   "cell_type": "code",
   "execution_count": null,
   "metadata": {
    "executionInfo": {
     "elapsed": 15,
     "status": "ok",
     "timestamp": 1640067314407,
     "user": {
      "displayName": "조경덕",
      "photoUrl": "https://lh3.googleusercontent.com/a/default-user=s64",
      "userId": "14679603036547633295"
     },
     "user_tz": -540
    },
    "id": "pOmw72046PZg"
   },
   "outputs": [],
   "source": [
    "sampler = TPESampler(seed=42)\n",
    "study = optuna.create_study(\n",
    "    study_name = 'cat_parameter_opt',\n",
    "    direction = 'minimize',\n",
    "    sampler = sampler,\n",
    ")\n",
    "\n",
    "study.optimize(objective, n_trials=10)\n",
    "print(\"Best Score:\",study.best_value)\n",
    "print(\"Best trial\",study.best_trial.params)"
   ]
  },
  {
   "cell_type": "code",
   "execution_count": 16,
   "metadata": {},
   "outputs": [],
   "source": [
    "cat_param = {'learning_rate': 0.04169990777997927, 'bagging_temperature': 0.7742116473996251, 'n_estimators': 1038, 'max_depth': 13, 'random_strength': 76, 'colsample_bylevel': 0.7367663185416977, 'l2_leaf_reg': 2.3131305726837285e-05, 'min_child_samples': 52, 'max_bin': 357, 'od_type': 'IncToDec'}"
   ]
  },
  {
   "cell_type": "code",
   "execution_count": null,
   "metadata": {
    "executionInfo": {
     "elapsed": 266,
     "status": "ok",
     "timestamp": 1640067314659,
     "user": {
      "displayName": "조경덕",
      "photoUrl": "https://lh3.googleusercontent.com/a/default-user=s64",
      "userId": "14679603036547633295"
     },
     "user_tz": -540
    },
    "id": "cnsES_K6JOPF"
   },
   "outputs": [],
   "source": [
    "# 최적 하이퍼파라미터\n",
    "cat_param = study.best_trial.params"
   ]
  },
  {
   "cell_type": "code",
   "execution_count": 16,
   "metadata": {
    "colab": {
     "base_uri": "https://localhost:8080/"
    },
    "executionInfo": {
     "elapsed": 7,
     "status": "ok",
     "timestamp": 1640067314659,
     "user": {
      "displayName": "조경덕",
      "photoUrl": "https://lh3.googleusercontent.com/a/default-user=s64",
      "userId": "14679603036547633295"
     },
     "user_tz": -540
    },
    "id": "IfZZRGUNJEP4",
    "outputId": "8bca3582-a493-44d7-8603-d06c63e8e650"
   },
   "outputs": [
    {
     "name": "stderr",
     "output_type": "stream",
     "text": [
      "C:\\Users\\songk\\anaconda3\\lib\\site-packages\\sklearn\\model_selection\\_split.py:700: UserWarning: The least populated class in y has only 1 members, which is less than n_splits=10.\n",
      "  warnings.warn(\n"
     ]
    }
   ],
   "source": [
    "skf = StratifiedKFold(n_splits=10, shuffle=True, random_state=42)\n",
    "folds = []\n",
    "for train_idx, valid_idx in skf.split(train, train['INVC_CONT']):\n",
    "    folds.append((train_idx,valid_idx))"
   ]
  },
  {
   "cell_type": "markdown",
   "metadata": {
    "id": "wPQJcXImcalP"
   },
   "source": [
    "train 데이터를 K-Fold 하여 각 Fold의 학습 값을 가지고 test 예측값을 구한 후\n",
    "평균을 구하였습니다."
   ]
  },
  {
   "cell_type": "markdown",
   "metadata": {},
   "source": [
    "#### Stratified k-fold\n",
    "- 불균형한 분포도를 가진 레이블 데이터 집합(결정 클래스)을 위한 K-fold 방식\n",
    "    - ex) 타겟 데이터가 대출 사기 여부(0: 정상 대출, 1:사기 대출) 일 때 1의 값 비율은 매우 적음. 즉 fold 안에 타겟 값이 모두 0일 가능성도 존재. \n",
    "    - 이처럼 K 폴드가 레이블 데이터 집합이 원본 데이터 집합의 레이블 분포를 학습 및 테스트 세트에 제대로 분배하지 못하는 경우의 문제를 해결해준다. "
   ]
  },
  {
   "cell_type": "code",
   "execution_count": 17,
   "metadata": {
    "colab": {
     "base_uri": "https://localhost:8080/"
    },
    "executionInfo": {
     "elapsed": 1725559,
     "status": "ok",
     "timestamp": 1640069040214,
     "user": {
      "displayName": "조경덕",
      "photoUrl": "https://lh3.googleusercontent.com/a/default-user=s64",
      "userId": "14679603036547633295"
     },
     "user_tz": -540
    },
    "id": "AbQtP_perdqS",
    "outputId": "64697910-f5c3-46f2-9f48-7713a20aae50"
   },
   "outputs": [
    {
     "name": "stderr",
     "output_type": "stream",
     "text": [
      "C:\\Users\\songk\\anaconda3\\lib\\site-packages\\sklearn\\model_selection\\_split.py:700: UserWarning: The least populated class in y has only 1 members, which is less than n_splits=10.\n",
      "  warnings.warn(\n"
     ]
    },
    {
     "name": "stdout",
     "output_type": "stream",
     "text": [
      "====================================1============================================\n",
      "0:\tlearn: 6.7670986\ttest: 6.7671093\ttest1: 6.6589180\tbest: 6.6589180 (0)\ttotal: 163ms\tremaining: 2m 49s\n",
      "100:\tlearn: 6.6314508\ttest: 6.6801215\ttest1: 6.5710722\tbest: 6.5710722 (100)\ttotal: 14.6s\tremaining: 2m 15s\n",
      "200:\tlearn: 6.5736264\ttest: 6.6494239\ttest1: 6.5481275\tbest: 6.5481275 (200)\ttotal: 26s\tremaining: 1m 48s\n",
      "300:\tlearn: 6.4507142\ttest: 6.6030894\ttest1: 6.5138867\tbest: 6.5137295 (295)\ttotal: 46.7s\tremaining: 1m 54s\n",
      "400:\tlearn: 5.1581321\ttest: 6.2547240\ttest1: 6.1766054\tbest: 6.1766054 (400)\ttotal: 1m 36s\tremaining: 2m 33s\n",
      "500:\tlearn: 4.4107449\ttest: 6.0991569\ttest1: 6.1301751\tbest: 6.1301751 (500)\ttotal: 2m 40s\tremaining: 2m 52s\n",
      "Stopped by overfitting detector  (35 iterations wait)\n",
      "\n",
      "bestTest = 6.124378364\n",
      "bestIteration = 508\n",
      "\n",
      "Shrink model to first 509 iterations.\n",
      "================================================================================\n",
      "\n",
      "\n",
      "====================================2============================================\n",
      "0:\tlearn: 6.6294059\ttest: 6.6294167\ttest1: 7.8064085\tbest: 7.8064085 (0)\ttotal: 21.8ms\tremaining: 22.6s\n",
      "100:\tlearn: 6.5200867\ttest: 6.5418302\ttest1: 7.7200439\tbest: 7.7200439 (100)\ttotal: 18.3s\tremaining: 2m 49s\n",
      "200:\tlearn: 6.4791944\ttest: 6.5076060\ttest1: 7.6958489\tbest: 7.6958390 (193)\ttotal: 29.9s\tremaining: 2m 4s\n",
      "300:\tlearn: 6.4204903\ttest: 6.4724180\ttest1: 7.6526421\tbest: 7.6526421 (300)\ttotal: 45.4s\tremaining: 1m 51s\n",
      "400:\tlearn: 5.0817292\ttest: 5.7503000\ttest1: 6.7998632\tbest: 6.7986550 (399)\ttotal: 1m 46s\tremaining: 2m 48s\n",
      "500:\tlearn: 4.4958089\ttest: 5.6177191\ttest1: 6.6347215\tbest: 6.6344591 (499)\ttotal: 3m 10s\tremaining: 3m 24s\n",
      "600:\tlearn: 4.0741926\ttest: 5.5442489\ttest1: 6.5903932\tbest: 6.5903932 (600)\ttotal: 4m 34s\tremaining: 3m 19s\n",
      "Stopped by overfitting detector  (35 iterations wait)\n",
      "\n",
      "bestTest = 6.583886836\n",
      "bestIteration = 630\n",
      "\n",
      "Shrink model to first 631 iterations.\n",
      "================================================================================\n",
      "\n",
      "\n",
      "====================================3============================================\n",
      "0:\tlearn: 6.7345758\ttest: 6.7345767\ttest1: 6.9493613\tbest: 6.9493613 (0)\ttotal: 20.8ms\tremaining: 21.5s\n",
      "100:\tlearn: 6.6530203\ttest: 6.6682975\ttest1: 6.8897382\tbest: 6.8897382 (100)\ttotal: 15.5s\tremaining: 2m 24s\n",
      "200:\tlearn: 6.6111358\ttest: 6.6375105\ttest1: 6.8735932\tbest: 6.8735932 (200)\ttotal: 28.5s\tremaining: 1m 58s\n",
      "300:\tlearn: 6.4189498\ttest: 6.4851214\ttest1: 6.8552178\tbest: 6.8552178 (300)\ttotal: 50.2s\tremaining: 2m 2s\n",
      "400:\tlearn: 5.0036393\ttest: 5.8636702\ttest1: 6.8231487\tbest: 6.8218435 (396)\ttotal: 2m 8s\tremaining: 3m 23s\n",
      "Stopped by overfitting detector  (35 iterations wait)\n",
      "\n",
      "bestTest = 6.797254978\n",
      "bestIteration = 460\n",
      "\n",
      "Shrink model to first 461 iterations.\n",
      "================================================================================\n",
      "\n",
      "\n",
      "====================================4============================================\n",
      "0:\tlearn: 6.8670409\ttest: 6.8670411\ttest1: 5.6640700\tbest: 5.6640700 (0)\ttotal: 26.6ms\tremaining: 27.6s\n",
      "100:\tlearn: 6.7648399\ttest: 6.7782728\ttest1: 5.5893872\tbest: 5.5893872 (100)\ttotal: 23.3s\tremaining: 3m 36s\n",
      "200:\tlearn: 6.7045016\ttest: 6.7459479\ttest1: 5.5749723\tbest: 5.5748634 (197)\ttotal: 44.7s\tremaining: 3m 6s\n",
      "300:\tlearn: 6.5893082\ttest: 6.6768770\ttest1: 5.5560147\tbest: 5.5560147 (300)\ttotal: 1m 5s\tremaining: 2m 41s\n",
      "Stopped by overfitting detector  (35 iterations wait)\n",
      "\n",
      "bestTest = 5.547959102\n",
      "bestIteration = 329\n",
      "\n",
      "Shrink model to first 330 iterations.\n",
      "================================================================================\n",
      "\n",
      "\n",
      "====================================5============================================\n",
      "0:\tlearn: 6.7394378\ttest: 6.7394378\ttest1: 6.9068752\tbest: 6.9068752 (0)\ttotal: 7.67ms\tremaining: 7.95s\n",
      "100:\tlearn: 6.6416105\ttest: 6.6656662\ttest1: 6.8420258\tbest: 6.8420258 (100)\ttotal: 14.9s\tremaining: 2m 18s\n",
      "200:\tlearn: 6.5917114\ttest: 6.6387068\ttest1: 6.8278941\tbest: 6.8278457 (199)\ttotal: 30.5s\tremaining: 2m 7s\n",
      "300:\tlearn: 6.4756434\ttest: 6.6019565\ttest1: 6.8115771\tbest: 6.8113565 (298)\ttotal: 51.6s\tremaining: 2m 6s\n",
      "400:\tlearn: 5.3620733\ttest: 6.2072200\ttest1: 6.2821942\tbest: 6.2787896 (395)\ttotal: 1m 44s\tremaining: 2m 46s\n",
      "500:\tlearn: 4.6240313\ttest: 5.9829327\ttest1: 6.0554190\tbest: 6.0541855 (498)\ttotal: 3m 5s\tremaining: 3m 18s\n",
      "Stopped by overfitting detector  (35 iterations wait)\n",
      "\n",
      "bestTest = 6.054185519\n",
      "bestIteration = 498\n",
      "\n",
      "Shrink model to first 499 iterations.\n",
      "================================================================================\n",
      "\n",
      "\n",
      "====================================6============================================\n",
      "0:\tlearn: 6.8107163\ttest: 6.8107163\ttest1: 6.2458966\tbest: 6.2458966 (0)\ttotal: 10.5ms\tremaining: 10.9s\n",
      "100:\tlearn: 6.6979469\ttest: 6.7111497\ttest1: 6.2030649\tbest: 6.2030647 (99)\ttotal: 14.1s\tremaining: 2m 10s\n",
      "200:\tlearn: 6.6346676\ttest: 6.6809818\ttest1: 6.1919277\tbest: 6.1919238 (199)\ttotal: 32s\tremaining: 2m 13s\n",
      "300:\tlearn: 6.4727932\ttest: 6.5481190\ttest1: 6.1817831\tbest: 6.1817831 (299)\ttotal: 51.8s\tremaining: 2m 6s\n",
      "400:\tlearn: 5.0237708\ttest: 5.9014203\ttest1: 6.1381445\tbest: 6.1381445 (400)\ttotal: 2m\tremaining: 3m 10s\n",
      "500:\tlearn: 4.3919151\ttest: 5.7038602\ttest1: 6.1267660\tbest: 6.1246898 (491)\ttotal: 3m 30s\tremaining: 3m 45s\n",
      "Stopped by overfitting detector  (35 iterations wait)\n",
      "\n",
      "bestTest = 6.121446226\n",
      "bestIteration = 552\n",
      "\n",
      "Shrink model to first 553 iterations.\n",
      "================================================================================\n",
      "\n",
      "\n",
      "====================================7============================================\n",
      "0:\tlearn: 6.3773434\ttest: 6.3773434\ttest1: 9.5109287\tbest: 9.5109287 (0)\ttotal: 7.34ms\tremaining: 7.61s\n",
      "100:\tlearn: 6.2739094\ttest: 6.3036863\ttest1: 9.4444362\tbest: 9.4444362 (100)\ttotal: 17.5s\tremaining: 2m 42s\n",
      "200:\tlearn: 6.2053897\ttest: 6.2665530\ttest1: 9.4238706\tbest: 9.4238706 (200)\ttotal: 33.4s\tremaining: 2m 19s\n",
      "300:\tlearn: 6.1513287\ttest: 6.2366912\ttest1: 9.4033486\tbest: 9.4032584 (297)\ttotal: 49.3s\tremaining: 2m\n",
      "400:\tlearn: 5.1785121\ttest: 5.8230903\ttest1: 9.0545515\tbest: 9.0520325 (396)\ttotal: 1m 49s\tremaining: 2m 54s\n",
      "500:\tlearn: 4.5109974\ttest: 5.5965208\ttest1: 8.9332217\tbest: 8.9330978 (491)\ttotal: 2m 56s\tremaining: 3m 9s\n",
      "600:\tlearn: 4.0165601\ttest: 5.4716722\ttest1: 8.8973315\tbest: 8.8967397 (596)\ttotal: 4m 10s\tremaining: 3m 2s\n",
      "Stopped by overfitting detector  (35 iterations wait)\n",
      "\n",
      "bestTest = 8.896431776\n",
      "bestIteration = 623\n",
      "\n",
      "Shrink model to first 624 iterations.\n",
      "================================================================================\n",
      "\n",
      "\n",
      "====================================8============================================\n",
      "0:\tlearn: 6.8939355\ttest: 6.8939355\ttest1: 5.3615038\tbest: 5.3615038 (0)\ttotal: 7.99ms\tremaining: 8.29s\n",
      "100:\tlearn: 6.8131736\ttest: 6.8277926\ttest1: 5.2972656\tbest: 5.2972656 (100)\ttotal: 9.92s\tremaining: 1m 32s\n",
      "200:\tlearn: 6.7423952\ttest: 6.7922789\ttest1: 5.2754453\tbest: 5.2754453 (200)\ttotal: 28.4s\tremaining: 1m 58s\n",
      "300:\tlearn: 6.6631501\ttest: 6.7506987\ttest1: 5.2670971\tbest: 5.2670971 (300)\ttotal: 43.7s\tremaining: 1m 46s\n",
      "Stopped by overfitting detector  (35 iterations wait)\n",
      "\n",
      "bestTest = 5.087208372\n",
      "bestIteration = 359\n",
      "\n",
      "Shrink model to first 360 iterations.\n",
      "================================================================================\n",
      "\n",
      "\n",
      "====================================9============================================\n",
      "0:\tlearn: 6.8900115\ttest: 6.8900115\ttest1: 5.4067558\tbest: 5.4067558 (0)\ttotal: 8.97ms\tremaining: 9.3s\n",
      "100:\tlearn: 6.7960302\ttest: 6.8068045\ttest1: 5.3462213\tbest: 5.3462213 (99)\ttotal: 13.9s\tremaining: 2m 9s\n",
      "200:\tlearn: 6.7198172\ttest: 6.7490594\ttest1: 5.3302735\tbest: 5.3302735 (200)\ttotal: 29.9s\tremaining: 2m 4s\n",
      "300:\tlearn: 6.5803407\ttest: 6.6360708\ttest1: 5.3228095\tbest: 5.3225767 (294)\ttotal: 51.4s\tremaining: 2m 5s\n",
      "400:\tlearn: 5.2455995\ttest: 6.0165861\ttest1: 5.3169848\tbest: 5.3047825 (377)\ttotal: 1m 56s\tremaining: 3m 4s\n",
      "Stopped by overfitting detector  (35 iterations wait)\n",
      "\n",
      "bestTest = 5.304782501\n",
      "bestIteration = 377\n",
      "\n",
      "Shrink model to first 378 iterations.\n",
      "================================================================================\n",
      "\n",
      "\n",
      "====================================10============================================\n",
      "0:\tlearn: 6.8378136\ttest: 6.8378136\ttest1: 5.9734641\tbest: 5.9734641 (0)\ttotal: 9ms\tremaining: 9.34s\n"
     ]
    },
    {
     "name": "stdout",
     "output_type": "stream",
     "text": [
      "100:\tlearn: 6.7356402\ttest: 6.7631130\ttest1: 5.8901908\tbest: 5.8901908 (100)\ttotal: 18.5s\tremaining: 2m 51s\n",
      "200:\tlearn: 6.6964524\ttest: 6.7350438\ttest1: 5.8615003\tbest: 5.8615003 (200)\ttotal: 34.4s\tremaining: 2m 23s\n",
      "300:\tlearn: 6.5623664\ttest: 6.6454374\ttest1: 5.8003965\tbest: 5.8003965 (300)\ttotal: 54.1s\tremaining: 2m 12s\n",
      "400:\tlearn: 5.2761450\ttest: 6.1273948\ttest1: 5.6188711\tbest: 5.6176555 (391)\ttotal: 2m 4s\tremaining: 3m 18s\n",
      "Stopped by overfitting detector  (35 iterations wait)\n",
      "\n",
      "bestTest = 5.610611865\n",
      "bestIteration = 408\n",
      "\n",
      "Shrink model to first 409 iterations.\n",
      "================================================================================\n",
      "\n",
      "\n"
     ]
    }
   ],
   "source": [
    "skf = StratifiedKFold(n_splits=10, shuffle=True, random_state=42)\n",
    "folds = []\n",
    "for train_idx, valid_idx in skf.split(train, train['INVC_CONT']):\n",
    "    folds.append((train_idx,valid_idx))\n",
    "\n",
    "random.seed(42)\n",
    "cat_models={}\n",
    "\n",
    "cat_features =range(X_test.shape[1])\n",
    "\n",
    "for fold in range(10):\n",
    "    print(f'===================================={fold+1}============================================')\n",
    "    train_idx, valid_idx = folds[fold]\n",
    "    X_train = train.drop(['INVC_CONT'],axis=1).iloc[train_idx]\n",
    "    X_valid = train.drop(['INVC_CONT'],axis=1).iloc[valid_idx]\n",
    "    y_train = train['INVC_CONT'][train_idx].values\n",
    "    y_valid = train['INVC_CONT'][valid_idx].values\n",
    "\n",
    "    cat = CatBoostRegressor(**cat_param)\n",
    "    cat.fit(X_train, y_train, \n",
    "            eval_set=[(X_train, y_train), (X_valid,y_valid)],\n",
    "            early_stopping_rounds=35,cat_features=cat_features,\n",
    "            verbose=100)\n",
    "    cat_models[fold] = cat\n",
    "    print(f'================================================================================\\n\\n')"
   ]
  },
  {
   "cell_type": "code",
   "execution_count": 19,
   "metadata": {
    "executionInfo": {
     "elapsed": 1012,
     "status": "ok",
     "timestamp": 1640069041212,
     "user": {
      "displayName": "조경덕",
      "photoUrl": "https://lh3.googleusercontent.com/a/default-user=s64",
      "userId": "14679603036547633295"
     },
     "user_tz": -540
    },
    "id": "rEHfo474Vx7I"
   },
   "outputs": [],
   "source": [
    "for fold in range(10):\n",
    "    submission.loc[:,'운송장_건수'] += cat_models[fold].predict(test)/10"
   ]
  },
  {
   "cell_type": "markdown",
   "metadata": {
    "id": "UWNZkNazc-l4"
   },
   "source": [
    "train을 K-fold한 값의 평균을 구하다 보니 예측값의 극단값이 작아질 수 밖에 없습니다.\n",
    "\n",
    "따라서 INVC_CONT가 30 이상인 값에 적당한 값을 곱하여서 조정하였습니다."
   ]
  },
  {
   "attachments": {
    "image.png": {
     "image/png": "[encoded data removed]"
    }
   },
   "cell_type": "markdown",
   "metadata": {},
   "source": [
    "#### INVC_CONT >= 30 인 값들에 대해서만 다뤘는지?\n",
    "- 이상치 값 구하는 공식 : Q1 - 1.5 * IQR, Q3 + 1.5 * IQR\n",
    "    - Q3(5) * 3 * IQR(5-3) = 20\n",
    "        - 3 곱한 이유 : 때로는 데이터의 특성이나 분석 목적에 따라 이 값이 1.5보다 큰 값으로 선택될 수 있습니다. 예를 들어, 데이터가 매우 불균형하거나 이상치가 많은 경우에는 보다 큰 값이 선택될 수 있습니다.\n",
    "![image.png](attachment:image.png)"
   ]
  },
  {
   "cell_type": "code",
   "execution_count": 20,
   "metadata": {
    "executionInfo": {
     "elapsed": 7,
     "status": "ok",
     "timestamp": 1640069041214,
     "user": {
      "displayName": "조경덕",
      "photoUrl": "https://lh3.googleusercontent.com/a/default-user=s64",
      "userId": "14679603036547633295"
     },
     "user_tz": -540
    },
    "id": "oLT2Czv6V0ia"
   },
   "outputs": [],
   "source": [
    "submission.loc[submission[\"운송장_건수\"]>30,'운송장_건수']=submission.loc[submission.운송장_건수>30,'운송장_건수']*4.8\n",
    "submission.to_csv('./data/submission_0328_original.csv',index = False)"
   ]
  },
  {
   "cell_type": "code",
   "execution_count": 21,
   "metadata": {},
   "outputs": [
    {
     "data": {
      "text/html": [
       "<div>\n",
       "<style scoped>\n",
       "    .dataframe tbody tr th:only-of-type {\n",
       "        vertical-align: middle;\n",
       "    }\n",
       "\n",
       "    .dataframe tbody tr th {\n",
       "        vertical-align: top;\n",
       "    }\n",
       "\n",
       "    .dataframe thead th {\n",
       "        text-align: right;\n",
       "    }\n",
       "</style>\n",
       "<table border=\"1\" class=\"dataframe\">\n",
       "  <thead>\n",
       "    <tr style=\"text-align: right;\">\n",
       "      <th></th>\n",
       "      <th>index</th>\n",
       "      <th>운송장_건수</th>\n",
       "    </tr>\n",
       "  </thead>\n",
       "  <tbody>\n",
       "    <tr>\n",
       "      <th>0</th>\n",
       "      <td>0</td>\n",
       "      <td>5.611225</td>\n",
       "    </tr>\n",
       "    <tr>\n",
       "      <th>1</th>\n",
       "      <td>1</td>\n",
       "      <td>5.341927</td>\n",
       "    </tr>\n",
       "    <tr>\n",
       "      <th>2</th>\n",
       "      <td>2</td>\n",
       "      <td>5.975335</td>\n",
       "    </tr>\n",
       "    <tr>\n",
       "      <th>3</th>\n",
       "      <td>3</td>\n",
       "      <td>5.158829</td>\n",
       "    </tr>\n",
       "    <tr>\n",
       "      <th>4</th>\n",
       "      <td>4</td>\n",
       "      <td>4.432520</td>\n",
       "    </tr>\n",
       "    <tr>\n",
       "      <th>...</th>\n",
       "      <td>...</td>\n",
       "      <td>...</td>\n",
       "    </tr>\n",
       "    <tr>\n",
       "      <th>7915</th>\n",
       "      <td>7915</td>\n",
       "      <td>5.268593</td>\n",
       "    </tr>\n",
       "    <tr>\n",
       "      <th>7916</th>\n",
       "      <td>7916</td>\n",
       "      <td>5.921787</td>\n",
       "    </tr>\n",
       "    <tr>\n",
       "      <th>7917</th>\n",
       "      <td>7917</td>\n",
       "      <td>3.475820</td>\n",
       "    </tr>\n",
       "    <tr>\n",
       "      <th>7918</th>\n",
       "      <td>7918</td>\n",
       "      <td>3.565731</td>\n",
       "    </tr>\n",
       "    <tr>\n",
       "      <th>7919</th>\n",
       "      <td>7919</td>\n",
       "      <td>4.934176</td>\n",
       "    </tr>\n",
       "  </tbody>\n",
       "</table>\n",
       "<p>7920 rows × 2 columns</p>\n",
       "</div>"
      ],
      "text/plain": [
       "      index    운송장_건수\n",
       "0         0  5.611225\n",
       "1         1  5.341927\n",
       "2         2  5.975335\n",
       "3         3  5.158829\n",
       "4         4  4.432520\n",
       "...     ...       ...\n",
       "7915   7915  5.268593\n",
       "7916   7916  5.921787\n",
       "7917   7917  3.475820\n",
       "7918   7918  3.565731\n",
       "7919   7919  4.934176\n",
       "\n",
       "[7920 rows x 2 columns]"
      ]
     },
     "execution_count": 21,
     "metadata": {},
     "output_type": "execute_result"
    }
   ],
   "source": [
    "pd.read_csv(\"./data/submission.csv\")"
   ]
  }
 ],
 "metadata": {
  "colab": {
   "authorship_tag": "ABX9TyNkAUVk7q1lGnTHg/aelxpN",
   "collapsed_sections": [],
   "name": "Logistics distribution forecasting contest.ipynb",
   "provenance": []
  },
  "kernelspec": {
   "display_name": "Python 3 (ipykernel)",
   "language": "python",
   "name": "python3"
  },
  "language_info": {
   "codemirror_mode": {
    "name": "ipython",
    "version": 3
   },
   "file_extension": ".py",
   "mimetype": "text/x-python",
   "name": "python",
   "nbconvert_exporter": "python",
   "pygments_lexer": "ipython3",
   "version": "3.9.16"
  }
 },
 "nbformat": 4,
 "nbformat_minor": 1
}
